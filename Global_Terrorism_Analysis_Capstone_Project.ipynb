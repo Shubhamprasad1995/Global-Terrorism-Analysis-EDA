{
  "nbformat": 4,
  "nbformat_minor": 0,
  "metadata": {
    "kernelspec": {
      "display_name": "Python 3",
      "language": "python",
      "name": "python3"
    },
    "language_info": {
      "codemirror_mode": {
        "name": "ipython",
        "version": 3
      },
      "file_extension": ".py",
      "mimetype": "text/x-python",
      "name": "python",
      "nbconvert_exporter": "python",
      "pygments_lexer": "ipython3",
      "version": "3.6.6"
    },
    "colab": {
      "name": " Global Terrorism Analysis - Capstone Project.ipynb",
      "provenance": [],
      "include_colab_link": true
    }
  },
  "cells": [
    {
      "cell_type": "markdown",
      "metadata": {
        "id": "view-in-github",
        "colab_type": "text"
      },
      "source": [
        "<a href=\"https://colab.research.google.com/github/Shubhamprasad1995/Global-Terrorism-Analysis-EDA/blob/main/Global_Terrorism_Analysis_Capstone_Project.ipynb\" target=\"_parent\"><img src=\"https://colab.research.google.com/assets/colab-badge.svg\" alt=\"Open In Colab\"/></a>"
      ]
    },
    {
      "cell_type": "markdown",
      "metadata": {
        "id": "Y06xIdG26kRF"
      },
      "source": [
        "## <b> The Global Terrorism Database (GTD) is an open-source database including information on terrorist attacks around the world from 1970 through 2017. The GTD includes systematic data on domestic as well as international terrorist incidents that have occurred during this time period and now includes more than 180,000 attacks. The database is maintained by researchers at the National Consortium for the Study of Terrorism and Responses to Terrorism (START), headquartered at the University of Maryland.</b>\n",
        "\n",
        "# <b> Explore and analyze the data to discover key findings pertaining to terrorist activities. </b>"
      ]
    },
    {
      "cell_type": "code",
      "metadata": {
        "id": "dByMsuzT8Tnw"
      },
      "source": [
        "#importing Libraries \n",
        "import numpy as np\n",
        "import pandas as pd\n",
        "import matplotlib.pyplot as plt\n",
        "import seaborn as sns"
      ],
      "execution_count": 2,
      "outputs": []
    },
    {
      "cell_type": "code",
      "source": [
        "%matplotlib inline\n",
        "%lsmagic"
      ],
      "metadata": {
        "colab": {
          "base_uri": "https://localhost:8080/",
          "height": 243
        },
        "id": "RQ97U41TMuQ7",
        "outputId": "e6a8f5ed-d67e-4ce9-f818-87fa1d8e9ad8"
      },
      "execution_count": 3,
      "outputs": [
        {
          "output_type": "execute_result",
          "data": {
            "text/plain": [
              "Available line magics:\n",
              "%alias  %alias_magic  %autocall  %automagic  %autosave  %bookmark  %cat  %cd  %clear  %colors  %config  %connect_info  %cp  %debug  %dhist  %dirs  %doctest_mode  %ed  %edit  %env  %gui  %hist  %history  %killbgscripts  %ldir  %less  %lf  %lk  %ll  %load  %load_ext  %loadpy  %logoff  %logon  %logstart  %logstate  %logstop  %ls  %lsmagic  %lx  %macro  %magic  %man  %matplotlib  %mkdir  %more  %mv  %notebook  %page  %pastebin  %pdb  %pdef  %pdoc  %pfile  %pinfo  %pinfo2  %pip  %popd  %pprint  %precision  %profile  %prun  %psearch  %psource  %pushd  %pwd  %pycat  %pylab  %qtconsole  %quickref  %recall  %rehashx  %reload_ext  %rep  %rerun  %reset  %reset_selective  %rm  %rmdir  %run  %save  %sc  %set_env  %shell  %store  %sx  %system  %tb  %tensorflow_version  %time  %timeit  %unalias  %unload_ext  %who  %who_ls  %whos  %xdel  %xmode\n",
              "\n",
              "Available cell magics:\n",
              "%%!  %%HTML  %%SVG  %%bash  %%bigquery  %%capture  %%debug  %%file  %%html  %%javascript  %%js  %%latex  %%perl  %%prun  %%pypy  %%python  %%python2  %%python3  %%ruby  %%script  %%sh  %%shell  %%svg  %%sx  %%system  %%time  %%timeit  %%writefile\n",
              "\n",
              "Automagic is ON, % prefix IS NOT needed for line magics."
            ],
            "application/json": {
              "line": {
                "automagic": "AutoMagics",
                "autocall": "AutoMagics",
                "alias_magic": "BasicMagics",
                "lsmagic": "BasicMagics",
                "magic": "BasicMagics",
                "page": "BasicMagics",
                "profile": "BasicMagics",
                "pprint": "BasicMagics",
                "colors": "BasicMagics",
                "xmode": "BasicMagics",
                "quickref": "BasicMagics",
                "doctest_mode": "BasicMagics",
                "gui": "BasicMagics",
                "precision": "BasicMagics",
                "notebook": "BasicMagics",
                "save": "CodeMagics",
                "pastebin": "CodeMagics",
                "loadpy": "CodeMagics",
                "load": "CodeMagics",
                "edit": "KernelMagics",
                "config": "ConfigMagics",
                "prun": "ExecutionMagics",
                "pdb": "ExecutionMagics",
                "debug": "ExecutionMagics",
                "tb": "ExecutionMagics",
                "run": "ExecutionMagics",
                "timeit": "ExecutionMagics",
                "time": "ExecutionMagics",
                "macro": "ExecutionMagics",
                "load_ext": "ExtensionMagics",
                "unload_ext": "ExtensionMagics",
                "reload_ext": "ExtensionMagics",
                "history": "HistoryMagics",
                "recall": "HistoryMagics",
                "rerun": "HistoryMagics",
                "logstart": "LoggingMagics",
                "logstop": "LoggingMagics",
                "logoff": "LoggingMagics",
                "logon": "LoggingMagics",
                "logstate": "LoggingMagics",
                "pinfo": "NamespaceMagics",
                "pinfo2": "NamespaceMagics",
                "pdef": "NamespaceMagics",
                "pdoc": "NamespaceMagics",
                "psource": "NamespaceMagics",
                "pfile": "NamespaceMagics",
                "psearch": "NamespaceMagics",
                "who_ls": "NamespaceMagics",
                "who": "NamespaceMagics",
                "whos": "NamespaceMagics",
                "reset": "NamespaceMagics",
                "reset_selective": "NamespaceMagics",
                "xdel": "NamespaceMagics",
                "alias": "OSMagics",
                "unalias": "OSMagics",
                "rehashx": "OSMagics",
                "pwd": "OSMagics",
                "cd": "OSMagics",
                "env": "OSMagics",
                "set_env": "OSMagics",
                "pushd": "OSMagics",
                "popd": "OSMagics",
                "dirs": "OSMagics",
                "dhist": "OSMagics",
                "sc": "OSMagics",
                "sx": "OSMagics",
                "system": "OSMagics",
                "bookmark": "OSMagics",
                "pycat": "OSMagics",
                "matplotlib": "PylabMagics",
                "pylab": "PylabMagics",
                "killbgscripts": "ScriptMagics",
                "ed": "Other",
                "hist": "Other",
                "rep": "Other",
                "clear": "KernelMagics",
                "less": "KernelMagics",
                "more": "KernelMagics",
                "man": "KernelMagics",
                "connect_info": "KernelMagics",
                "qtconsole": "KernelMagics",
                "autosave": "KernelMagics",
                "mkdir": "Other",
                "rmdir": "Other",
                "mv": "Other",
                "rm": "Other",
                "cp": "Other",
                "cat": "Other",
                "ls": "Other",
                "ll": "Other",
                "lf": "Other",
                "lk": "Other",
                "ldir": "Other",
                "lx": "Other",
                "store": "StoreMagics",
                "shell": "Other",
                "pip": "Other",
                "tensorflow_version": "Other"
              },
              "cell": {
                "js": "DisplayMagics",
                "javascript": "DisplayMagics",
                "latex": "DisplayMagics",
                "svg": "DisplayMagics",
                "html": "DisplayMagics",
                "prun": "ExecutionMagics",
                "debug": "ExecutionMagics",
                "timeit": "ExecutionMagics",
                "time": "ExecutionMagics",
                "capture": "ExecutionMagics",
                "sx": "OSMagics",
                "system": "OSMagics",
                "!": "OSMagics",
                "writefile": "OSMagics",
                "script": "ScriptMagics",
                "sh": "Other",
                "bash": "Other",
                "perl": "Other",
                "ruby": "Other",
                "python": "Other",
                "python2": "Other",
                "python3": "Other",
                "pypy": "Other",
                "SVG": "Other",
                "HTML": "Other",
                "file": "Other",
                "bigquery": "Other",
                "shell": "Other"
              }
            }
          },
          "metadata": {},
          "execution_count": 3
        }
      ]
    },
    {
      "cell_type": "code",
      "source": [
        "from google.colab import drive\n",
        "drive.mount('/content/drive/')"
      ],
      "metadata": {
        "colab": {
          "base_uri": "https://localhost:8080/"
        },
        "id": "3LWJuHgRM0U8",
        "outputId": "73792176-e7f3-4e5b-b61f-b605d4caa903"
      },
      "execution_count": 4,
      "outputs": [
        {
          "output_type": "stream",
          "name": "stdout",
          "text": [
            "Mounted at /content/drive/\n"
          ]
        }
      ]
    },
    {
      "cell_type": "code",
      "source": [
        "path = '/content/drive/MyDrive/Colab Notebooks/'"
      ],
      "metadata": {
        "id": "GdfN74HjNB67"
      },
      "execution_count": 5,
      "outputs": []
    },
    {
      "cell_type": "code",
      "source": [
        "#importing DATA using read_csv \n",
        "terrorism_df = pd.read_csv(path + 'Global Terrorism Data.csv' ,encoding = \"ISO-8859-1\")"
      ],
      "metadata": {
        "colab": {
          "base_uri": "https://localhost:8080/"
        },
        "id": "Uu9wCj86Nf2O",
        "outputId": "d26eadd6-9d8a-4d5c-bd4e-dc98a82a8e98"
      },
      "execution_count": 6,
      "outputs": [
        {
          "output_type": "stream",
          "name": "stderr",
          "text": [
            "/usr/local/lib/python3.7/dist-packages/IPython/core/interactiveshell.py:2882: DtypeWarning: Columns (4,6,31,33,61,62,63,76,79,90,92,94,96,114,115,121) have mixed types.Specify dtype option on import or set low_memory=False.\n",
            "  exec(code_obj, self.user_global_ns, self.user_ns)\n"
          ]
        }
      ]
    },
    {
      "cell_type": "markdown",
      "source": [
        "**Data Exploration**"
      ],
      "metadata": {
        "id": "gKS6JTLdSgFi"
      }
    },
    {
      "cell_type": "code",
      "source": [
        "terrorism_df.shape \n",
        "# There are 181691 Rows & 135 Coloums"
      ],
      "metadata": {
        "colab": {
          "base_uri": "https://localhost:8080/"
        },
        "id": "55b79NpGRixw",
        "outputId": "35d1767a-334a-488f-a81d-35079cd6986f"
      },
      "execution_count": 7,
      "outputs": [
        {
          "output_type": "execute_result",
          "data": {
            "text/plain": [
              "(181691, 135)"
            ]
          },
          "metadata": {},
          "execution_count": 7
        }
      ]
    },
    {
      "cell_type": "code",
      "source": [
        "terrorism_df.info()"
      ],
      "metadata": {
        "colab": {
          "base_uri": "https://localhost:8080/"
        },
        "id": "UXTZS7UTN3Vu",
        "outputId": "e4d4d3a6-03d8-48f0-c839-3abdf3c82a8a"
      },
      "execution_count": 8,
      "outputs": [
        {
          "output_type": "stream",
          "name": "stdout",
          "text": [
            "<class 'pandas.core.frame.DataFrame'>\n",
            "RangeIndex: 181691 entries, 0 to 181690\n",
            "Columns: 135 entries, eventid to related\n",
            "dtypes: float64(55), int64(22), object(58)\n",
            "memory usage: 187.1+ MB\n"
          ]
        }
      ]
    },
    {
      "cell_type": "code",
      "source": [
        "terrorism_df.describe()"
      ],
      "metadata": {
        "colab": {
          "base_uri": "https://localhost:8080/",
          "height": 394
        },
        "id": "qmBqaMGcOsIq",
        "outputId": "94b695ac-ee15-492c-99c8-5cce2fa1d5db"
      },
      "execution_count": 9,
      "outputs": [
        {
          "output_type": "execute_result",
          "data": {
            "text/plain": [
              "            eventid          iyear         imonth           iday  \\\n",
              "count  1.816910e+05  181691.000000  181691.000000  181691.000000   \n",
              "mean   2.002705e+11    2002.638997       6.467277      15.505644   \n",
              "std    1.325957e+09      13.259430       3.388303       8.814045   \n",
              "min    1.970000e+11    1970.000000       0.000000       0.000000   \n",
              "25%    1.991021e+11    1991.000000       4.000000       8.000000   \n",
              "50%    2.009022e+11    2009.000000       6.000000      15.000000   \n",
              "75%    2.014081e+11    2014.000000       9.000000      23.000000   \n",
              "max    2.017123e+11    2017.000000      12.000000      31.000000   \n",
              "\n",
              "            extended        country         region       latitude  \\\n",
              "count  181691.000000  181691.000000  181691.000000  177135.000000   \n",
              "mean        0.045346     131.968501       7.160938      23.498343   \n",
              "std         0.208063     112.414535       2.933408      18.569242   \n",
              "min         0.000000       4.000000       1.000000     -53.154613   \n",
              "25%         0.000000      78.000000       5.000000      11.510046   \n",
              "50%         0.000000      98.000000       6.000000      31.467463   \n",
              "75%         0.000000     160.000000      10.000000      34.685087   \n",
              "max         1.000000    1004.000000      12.000000      74.633553   \n",
              "\n",
              "          longitude    specificity  ...     ransomamt   ransomamtus  \\\n",
              "count  1.771340e+05  181685.000000  ...  1.350000e+03  5.630000e+02   \n",
              "mean  -4.586957e+02       1.451452  ...  3.172530e+06  5.784865e+05   \n",
              "std    2.047790e+05       0.995430  ...  3.021157e+07  7.077924e+06   \n",
              "min   -8.618590e+07       1.000000  ... -9.900000e+01 -9.900000e+01   \n",
              "25%    4.545640e+00       1.000000  ...  0.000000e+00  0.000000e+00   \n",
              "50%    4.324651e+01       1.000000  ...  1.500000e+04  0.000000e+00   \n",
              "75%    6.871033e+01       1.000000  ...  4.000000e+05  0.000000e+00   \n",
              "max    1.793667e+02       5.000000  ...  1.000000e+09  1.320000e+08   \n",
              "\n",
              "         ransompaid  ransompaidus  hostkidoutcome     nreleased  \\\n",
              "count  7.740000e+02    552.000000    10991.000000  10400.000000   \n",
              "mean   7.179437e+05    240.378623        4.629242    -29.018269   \n",
              "std    1.014392e+07   2940.967293        2.035360     65.720119   \n",
              "min   -9.900000e+01    -99.000000        1.000000    -99.000000   \n",
              "25%   -9.900000e+01      0.000000        2.000000    -99.000000   \n",
              "50%    0.000000e+00      0.000000        4.000000      0.000000   \n",
              "75%    1.273412e+03      0.000000        7.000000      1.000000   \n",
              "max    2.750000e+08  48000.000000        7.000000   2769.000000   \n",
              "\n",
              "             INT_LOG       INT_IDEO       INT_MISC        INT_ANY  \n",
              "count  181691.000000  181691.000000  181691.000000  181691.000000  \n",
              "mean       -4.543731      -4.464398       0.090010      -3.945952  \n",
              "std         4.543547       4.637152       0.568457       4.691325  \n",
              "min        -9.000000      -9.000000      -9.000000      -9.000000  \n",
              "25%        -9.000000      -9.000000       0.000000      -9.000000  \n",
              "50%        -9.000000      -9.000000       0.000000       0.000000  \n",
              "75%         0.000000       0.000000       0.000000       0.000000  \n",
              "max         1.000000       1.000000       1.000000       1.000000  \n",
              "\n",
              "[8 rows x 77 columns]"
            ],
            "text/html": [
              "\n",
              "  <div id=\"df-78d01f1c-91b6-4854-978a-52d5d4df7714\">\n",
              "    <div class=\"colab-df-container\">\n",
              "      <div>\n",
              "<style scoped>\n",
              "    .dataframe tbody tr th:only-of-type {\n",
              "        vertical-align: middle;\n",
              "    }\n",
              "\n",
              "    .dataframe tbody tr th {\n",
              "        vertical-align: top;\n",
              "    }\n",
              "\n",
              "    .dataframe thead th {\n",
              "        text-align: right;\n",
              "    }\n",
              "</style>\n",
              "<table border=\"1\" class=\"dataframe\">\n",
              "  <thead>\n",
              "    <tr style=\"text-align: right;\">\n",
              "      <th></th>\n",
              "      <th>eventid</th>\n",
              "      <th>iyear</th>\n",
              "      <th>imonth</th>\n",
              "      <th>iday</th>\n",
              "      <th>extended</th>\n",
              "      <th>country</th>\n",
              "      <th>region</th>\n",
              "      <th>latitude</th>\n",
              "      <th>longitude</th>\n",
              "      <th>specificity</th>\n",
              "      <th>...</th>\n",
              "      <th>ransomamt</th>\n",
              "      <th>ransomamtus</th>\n",
              "      <th>ransompaid</th>\n",
              "      <th>ransompaidus</th>\n",
              "      <th>hostkidoutcome</th>\n",
              "      <th>nreleased</th>\n",
              "      <th>INT_LOG</th>\n",
              "      <th>INT_IDEO</th>\n",
              "      <th>INT_MISC</th>\n",
              "      <th>INT_ANY</th>\n",
              "    </tr>\n",
              "  </thead>\n",
              "  <tbody>\n",
              "    <tr>\n",
              "      <th>count</th>\n",
              "      <td>1.816910e+05</td>\n",
              "      <td>181691.000000</td>\n",
              "      <td>181691.000000</td>\n",
              "      <td>181691.000000</td>\n",
              "      <td>181691.000000</td>\n",
              "      <td>181691.000000</td>\n",
              "      <td>181691.000000</td>\n",
              "      <td>177135.000000</td>\n",
              "      <td>1.771340e+05</td>\n",
              "      <td>181685.000000</td>\n",
              "      <td>...</td>\n",
              "      <td>1.350000e+03</td>\n",
              "      <td>5.630000e+02</td>\n",
              "      <td>7.740000e+02</td>\n",
              "      <td>552.000000</td>\n",
              "      <td>10991.000000</td>\n",
              "      <td>10400.000000</td>\n",
              "      <td>181691.000000</td>\n",
              "      <td>181691.000000</td>\n",
              "      <td>181691.000000</td>\n",
              "      <td>181691.000000</td>\n",
              "    </tr>\n",
              "    <tr>\n",
              "      <th>mean</th>\n",
              "      <td>2.002705e+11</td>\n",
              "      <td>2002.638997</td>\n",
              "      <td>6.467277</td>\n",
              "      <td>15.505644</td>\n",
              "      <td>0.045346</td>\n",
              "      <td>131.968501</td>\n",
              "      <td>7.160938</td>\n",
              "      <td>23.498343</td>\n",
              "      <td>-4.586957e+02</td>\n",
              "      <td>1.451452</td>\n",
              "      <td>...</td>\n",
              "      <td>3.172530e+06</td>\n",
              "      <td>5.784865e+05</td>\n",
              "      <td>7.179437e+05</td>\n",
              "      <td>240.378623</td>\n",
              "      <td>4.629242</td>\n",
              "      <td>-29.018269</td>\n",
              "      <td>-4.543731</td>\n",
              "      <td>-4.464398</td>\n",
              "      <td>0.090010</td>\n",
              "      <td>-3.945952</td>\n",
              "    </tr>\n",
              "    <tr>\n",
              "      <th>std</th>\n",
              "      <td>1.325957e+09</td>\n",
              "      <td>13.259430</td>\n",
              "      <td>3.388303</td>\n",
              "      <td>8.814045</td>\n",
              "      <td>0.208063</td>\n",
              "      <td>112.414535</td>\n",
              "      <td>2.933408</td>\n",
              "      <td>18.569242</td>\n",
              "      <td>2.047790e+05</td>\n",
              "      <td>0.995430</td>\n",
              "      <td>...</td>\n",
              "      <td>3.021157e+07</td>\n",
              "      <td>7.077924e+06</td>\n",
              "      <td>1.014392e+07</td>\n",
              "      <td>2940.967293</td>\n",
              "      <td>2.035360</td>\n",
              "      <td>65.720119</td>\n",
              "      <td>4.543547</td>\n",
              "      <td>4.637152</td>\n",
              "      <td>0.568457</td>\n",
              "      <td>4.691325</td>\n",
              "    </tr>\n",
              "    <tr>\n",
              "      <th>min</th>\n",
              "      <td>1.970000e+11</td>\n",
              "      <td>1970.000000</td>\n",
              "      <td>0.000000</td>\n",
              "      <td>0.000000</td>\n",
              "      <td>0.000000</td>\n",
              "      <td>4.000000</td>\n",
              "      <td>1.000000</td>\n",
              "      <td>-53.154613</td>\n",
              "      <td>-8.618590e+07</td>\n",
              "      <td>1.000000</td>\n",
              "      <td>...</td>\n",
              "      <td>-9.900000e+01</td>\n",
              "      <td>-9.900000e+01</td>\n",
              "      <td>-9.900000e+01</td>\n",
              "      <td>-99.000000</td>\n",
              "      <td>1.000000</td>\n",
              "      <td>-99.000000</td>\n",
              "      <td>-9.000000</td>\n",
              "      <td>-9.000000</td>\n",
              "      <td>-9.000000</td>\n",
              "      <td>-9.000000</td>\n",
              "    </tr>\n",
              "    <tr>\n",
              "      <th>25%</th>\n",
              "      <td>1.991021e+11</td>\n",
              "      <td>1991.000000</td>\n",
              "      <td>4.000000</td>\n",
              "      <td>8.000000</td>\n",
              "      <td>0.000000</td>\n",
              "      <td>78.000000</td>\n",
              "      <td>5.000000</td>\n",
              "      <td>11.510046</td>\n",
              "      <td>4.545640e+00</td>\n",
              "      <td>1.000000</td>\n",
              "      <td>...</td>\n",
              "      <td>0.000000e+00</td>\n",
              "      <td>0.000000e+00</td>\n",
              "      <td>-9.900000e+01</td>\n",
              "      <td>0.000000</td>\n",
              "      <td>2.000000</td>\n",
              "      <td>-99.000000</td>\n",
              "      <td>-9.000000</td>\n",
              "      <td>-9.000000</td>\n",
              "      <td>0.000000</td>\n",
              "      <td>-9.000000</td>\n",
              "    </tr>\n",
              "    <tr>\n",
              "      <th>50%</th>\n",
              "      <td>2.009022e+11</td>\n",
              "      <td>2009.000000</td>\n",
              "      <td>6.000000</td>\n",
              "      <td>15.000000</td>\n",
              "      <td>0.000000</td>\n",
              "      <td>98.000000</td>\n",
              "      <td>6.000000</td>\n",
              "      <td>31.467463</td>\n",
              "      <td>4.324651e+01</td>\n",
              "      <td>1.000000</td>\n",
              "      <td>...</td>\n",
              "      <td>1.500000e+04</td>\n",
              "      <td>0.000000e+00</td>\n",
              "      <td>0.000000e+00</td>\n",
              "      <td>0.000000</td>\n",
              "      <td>4.000000</td>\n",
              "      <td>0.000000</td>\n",
              "      <td>-9.000000</td>\n",
              "      <td>-9.000000</td>\n",
              "      <td>0.000000</td>\n",
              "      <td>0.000000</td>\n",
              "    </tr>\n",
              "    <tr>\n",
              "      <th>75%</th>\n",
              "      <td>2.014081e+11</td>\n",
              "      <td>2014.000000</td>\n",
              "      <td>9.000000</td>\n",
              "      <td>23.000000</td>\n",
              "      <td>0.000000</td>\n",
              "      <td>160.000000</td>\n",
              "      <td>10.000000</td>\n",
              "      <td>34.685087</td>\n",
              "      <td>6.871033e+01</td>\n",
              "      <td>1.000000</td>\n",
              "      <td>...</td>\n",
              "      <td>4.000000e+05</td>\n",
              "      <td>0.000000e+00</td>\n",
              "      <td>1.273412e+03</td>\n",
              "      <td>0.000000</td>\n",
              "      <td>7.000000</td>\n",
              "      <td>1.000000</td>\n",
              "      <td>0.000000</td>\n",
              "      <td>0.000000</td>\n",
              "      <td>0.000000</td>\n",
              "      <td>0.000000</td>\n",
              "    </tr>\n",
              "    <tr>\n",
              "      <th>max</th>\n",
              "      <td>2.017123e+11</td>\n",
              "      <td>2017.000000</td>\n",
              "      <td>12.000000</td>\n",
              "      <td>31.000000</td>\n",
              "      <td>1.000000</td>\n",
              "      <td>1004.000000</td>\n",
              "      <td>12.000000</td>\n",
              "      <td>74.633553</td>\n",
              "      <td>1.793667e+02</td>\n",
              "      <td>5.000000</td>\n",
              "      <td>...</td>\n",
              "      <td>1.000000e+09</td>\n",
              "      <td>1.320000e+08</td>\n",
              "      <td>2.750000e+08</td>\n",
              "      <td>48000.000000</td>\n",
              "      <td>7.000000</td>\n",
              "      <td>2769.000000</td>\n",
              "      <td>1.000000</td>\n",
              "      <td>1.000000</td>\n",
              "      <td>1.000000</td>\n",
              "      <td>1.000000</td>\n",
              "    </tr>\n",
              "  </tbody>\n",
              "</table>\n",
              "<p>8 rows × 77 columns</p>\n",
              "</div>\n",
              "      <button class=\"colab-df-convert\" onclick=\"convertToInteractive('df-78d01f1c-91b6-4854-978a-52d5d4df7714')\"\n",
              "              title=\"Convert this dataframe to an interactive table.\"\n",
              "              style=\"display:none;\">\n",
              "        \n",
              "  <svg xmlns=\"http://www.w3.org/2000/svg\" height=\"24px\"viewBox=\"0 0 24 24\"\n",
              "       width=\"24px\">\n",
              "    <path d=\"M0 0h24v24H0V0z\" fill=\"none\"/>\n",
              "    <path d=\"M18.56 5.44l.94 2.06.94-2.06 2.06-.94-2.06-.94-.94-2.06-.94 2.06-2.06.94zm-11 1L8.5 8.5l.94-2.06 2.06-.94-2.06-.94L8.5 2.5l-.94 2.06-2.06.94zm10 10l.94 2.06.94-2.06 2.06-.94-2.06-.94-.94-2.06-.94 2.06-2.06.94z\"/><path d=\"M17.41 7.96l-1.37-1.37c-.4-.4-.92-.59-1.43-.59-.52 0-1.04.2-1.43.59L10.3 9.45l-7.72 7.72c-.78.78-.78 2.05 0 2.83L4 21.41c.39.39.9.59 1.41.59.51 0 1.02-.2 1.41-.59l7.78-7.78 2.81-2.81c.8-.78.8-2.07 0-2.86zM5.41 20L4 18.59l7.72-7.72 1.47 1.35L5.41 20z\"/>\n",
              "  </svg>\n",
              "      </button>\n",
              "      \n",
              "  <style>\n",
              "    .colab-df-container {\n",
              "      display:flex;\n",
              "      flex-wrap:wrap;\n",
              "      gap: 12px;\n",
              "    }\n",
              "\n",
              "    .colab-df-convert {\n",
              "      background-color: #E8F0FE;\n",
              "      border: none;\n",
              "      border-radius: 50%;\n",
              "      cursor: pointer;\n",
              "      display: none;\n",
              "      fill: #1967D2;\n",
              "      height: 32px;\n",
              "      padding: 0 0 0 0;\n",
              "      width: 32px;\n",
              "    }\n",
              "\n",
              "    .colab-df-convert:hover {\n",
              "      background-color: #E2EBFA;\n",
              "      box-shadow: 0px 1px 2px rgba(60, 64, 67, 0.3), 0px 1px 3px 1px rgba(60, 64, 67, 0.15);\n",
              "      fill: #174EA6;\n",
              "    }\n",
              "\n",
              "    [theme=dark] .colab-df-convert {\n",
              "      background-color: #3B4455;\n",
              "      fill: #D2E3FC;\n",
              "    }\n",
              "\n",
              "    [theme=dark] .colab-df-convert:hover {\n",
              "      background-color: #434B5C;\n",
              "      box-shadow: 0px 1px 3px 1px rgba(0, 0, 0, 0.15);\n",
              "      filter: drop-shadow(0px 1px 2px rgba(0, 0, 0, 0.3));\n",
              "      fill: #FFFFFF;\n",
              "    }\n",
              "  </style>\n",
              "\n",
              "      <script>\n",
              "        const buttonEl =\n",
              "          document.querySelector('#df-78d01f1c-91b6-4854-978a-52d5d4df7714 button.colab-df-convert');\n",
              "        buttonEl.style.display =\n",
              "          google.colab.kernel.accessAllowed ? 'block' : 'none';\n",
              "\n",
              "        async function convertToInteractive(key) {\n",
              "          const element = document.querySelector('#df-78d01f1c-91b6-4854-978a-52d5d4df7714');\n",
              "          const dataTable =\n",
              "            await google.colab.kernel.invokeFunction('convertToInteractive',\n",
              "                                                     [key], {});\n",
              "          if (!dataTable) return;\n",
              "\n",
              "          const docLinkHtml = 'Like what you see? Visit the ' +\n",
              "            '<a target=\"_blank\" href=https://colab.research.google.com/notebooks/data_table.ipynb>data table notebook</a>'\n",
              "            + ' to learn more about interactive tables.';\n",
              "          element.innerHTML = '';\n",
              "          dataTable['output_type'] = 'display_data';\n",
              "          await google.colab.output.renderOutput(dataTable, element);\n",
              "          const docLink = document.createElement('div');\n",
              "          docLink.innerHTML = docLinkHtml;\n",
              "          element.appendChild(docLink);\n",
              "        }\n",
              "      </script>\n",
              "    </div>\n",
              "  </div>\n",
              "  "
            ]
          },
          "metadata": {},
          "execution_count": 9
        }
      ]
    },
    {
      "cell_type": "code",
      "source": [
        "terrorism_df.head()"
      ],
      "metadata": {
        "colab": {
          "base_uri": "https://localhost:8080/",
          "height": 317
        },
        "id": "zOoYAuNiPIar",
        "outputId": "025f6ddd-8e90-41d2-c017-ad5794e1e358"
      },
      "execution_count": 10,
      "outputs": [
        {
          "output_type": "execute_result",
          "data": {
            "text/plain": [
              "        eventid  iyear  imonth  iday approxdate  extended resolution  country  \\\n",
              "0  197000000001   1970       7     2        NaN         0        NaN       58   \n",
              "1  197000000002   1970       0     0        NaN         0        NaN      130   \n",
              "2  197001000001   1970       1     0        NaN         0        NaN      160   \n",
              "3  197001000002   1970       1     0        NaN         0        NaN       78   \n",
              "4  197001000003   1970       1     0        NaN         0        NaN      101   \n",
              "\n",
              "          country_txt  region  ... addnotes scite1 scite2  scite3  dbsource  \\\n",
              "0  Dominican Republic       2  ...      NaN    NaN    NaN     NaN      PGIS   \n",
              "1              Mexico       1  ...      NaN    NaN    NaN     NaN      PGIS   \n",
              "2         Philippines       5  ...      NaN    NaN    NaN     NaN      PGIS   \n",
              "3              Greece       8  ...      NaN    NaN    NaN     NaN      PGIS   \n",
              "4               Japan       4  ...      NaN    NaN    NaN     NaN      PGIS   \n",
              "\n",
              "   INT_LOG  INT_IDEO INT_MISC INT_ANY  related  \n",
              "0        0         0        0       0      NaN  \n",
              "1        0         1        1       1      NaN  \n",
              "2       -9        -9        1       1      NaN  \n",
              "3       -9        -9        1       1      NaN  \n",
              "4       -9        -9        1       1      NaN  \n",
              "\n",
              "[5 rows x 135 columns]"
            ],
            "text/html": [
              "\n",
              "  <div id=\"df-2a57a093-2517-4209-82c6-2e1c787e46ce\">\n",
              "    <div class=\"colab-df-container\">\n",
              "      <div>\n",
              "<style scoped>\n",
              "    .dataframe tbody tr th:only-of-type {\n",
              "        vertical-align: middle;\n",
              "    }\n",
              "\n",
              "    .dataframe tbody tr th {\n",
              "        vertical-align: top;\n",
              "    }\n",
              "\n",
              "    .dataframe thead th {\n",
              "        text-align: right;\n",
              "    }\n",
              "</style>\n",
              "<table border=\"1\" class=\"dataframe\">\n",
              "  <thead>\n",
              "    <tr style=\"text-align: right;\">\n",
              "      <th></th>\n",
              "      <th>eventid</th>\n",
              "      <th>iyear</th>\n",
              "      <th>imonth</th>\n",
              "      <th>iday</th>\n",
              "      <th>approxdate</th>\n",
              "      <th>extended</th>\n",
              "      <th>resolution</th>\n",
              "      <th>country</th>\n",
              "      <th>country_txt</th>\n",
              "      <th>region</th>\n",
              "      <th>...</th>\n",
              "      <th>addnotes</th>\n",
              "      <th>scite1</th>\n",
              "      <th>scite2</th>\n",
              "      <th>scite3</th>\n",
              "      <th>dbsource</th>\n",
              "      <th>INT_LOG</th>\n",
              "      <th>INT_IDEO</th>\n",
              "      <th>INT_MISC</th>\n",
              "      <th>INT_ANY</th>\n",
              "      <th>related</th>\n",
              "    </tr>\n",
              "  </thead>\n",
              "  <tbody>\n",
              "    <tr>\n",
              "      <th>0</th>\n",
              "      <td>197000000001</td>\n",
              "      <td>1970</td>\n",
              "      <td>7</td>\n",
              "      <td>2</td>\n",
              "      <td>NaN</td>\n",
              "      <td>0</td>\n",
              "      <td>NaN</td>\n",
              "      <td>58</td>\n",
              "      <td>Dominican Republic</td>\n",
              "      <td>2</td>\n",
              "      <td>...</td>\n",
              "      <td>NaN</td>\n",
              "      <td>NaN</td>\n",
              "      <td>NaN</td>\n",
              "      <td>NaN</td>\n",
              "      <td>PGIS</td>\n",
              "      <td>0</td>\n",
              "      <td>0</td>\n",
              "      <td>0</td>\n",
              "      <td>0</td>\n",
              "      <td>NaN</td>\n",
              "    </tr>\n",
              "    <tr>\n",
              "      <th>1</th>\n",
              "      <td>197000000002</td>\n",
              "      <td>1970</td>\n",
              "      <td>0</td>\n",
              "      <td>0</td>\n",
              "      <td>NaN</td>\n",
              "      <td>0</td>\n",
              "      <td>NaN</td>\n",
              "      <td>130</td>\n",
              "      <td>Mexico</td>\n",
              "      <td>1</td>\n",
              "      <td>...</td>\n",
              "      <td>NaN</td>\n",
              "      <td>NaN</td>\n",
              "      <td>NaN</td>\n",
              "      <td>NaN</td>\n",
              "      <td>PGIS</td>\n",
              "      <td>0</td>\n",
              "      <td>1</td>\n",
              "      <td>1</td>\n",
              "      <td>1</td>\n",
              "      <td>NaN</td>\n",
              "    </tr>\n",
              "    <tr>\n",
              "      <th>2</th>\n",
              "      <td>197001000001</td>\n",
              "      <td>1970</td>\n",
              "      <td>1</td>\n",
              "      <td>0</td>\n",
              "      <td>NaN</td>\n",
              "      <td>0</td>\n",
              "      <td>NaN</td>\n",
              "      <td>160</td>\n",
              "      <td>Philippines</td>\n",
              "      <td>5</td>\n",
              "      <td>...</td>\n",
              "      <td>NaN</td>\n",
              "      <td>NaN</td>\n",
              "      <td>NaN</td>\n",
              "      <td>NaN</td>\n",
              "      <td>PGIS</td>\n",
              "      <td>-9</td>\n",
              "      <td>-9</td>\n",
              "      <td>1</td>\n",
              "      <td>1</td>\n",
              "      <td>NaN</td>\n",
              "    </tr>\n",
              "    <tr>\n",
              "      <th>3</th>\n",
              "      <td>197001000002</td>\n",
              "      <td>1970</td>\n",
              "      <td>1</td>\n",
              "      <td>0</td>\n",
              "      <td>NaN</td>\n",
              "      <td>0</td>\n",
              "      <td>NaN</td>\n",
              "      <td>78</td>\n",
              "      <td>Greece</td>\n",
              "      <td>8</td>\n",
              "      <td>...</td>\n",
              "      <td>NaN</td>\n",
              "      <td>NaN</td>\n",
              "      <td>NaN</td>\n",
              "      <td>NaN</td>\n",
              "      <td>PGIS</td>\n",
              "      <td>-9</td>\n",
              "      <td>-9</td>\n",
              "      <td>1</td>\n",
              "      <td>1</td>\n",
              "      <td>NaN</td>\n",
              "    </tr>\n",
              "    <tr>\n",
              "      <th>4</th>\n",
              "      <td>197001000003</td>\n",
              "      <td>1970</td>\n",
              "      <td>1</td>\n",
              "      <td>0</td>\n",
              "      <td>NaN</td>\n",
              "      <td>0</td>\n",
              "      <td>NaN</td>\n",
              "      <td>101</td>\n",
              "      <td>Japan</td>\n",
              "      <td>4</td>\n",
              "      <td>...</td>\n",
              "      <td>NaN</td>\n",
              "      <td>NaN</td>\n",
              "      <td>NaN</td>\n",
              "      <td>NaN</td>\n",
              "      <td>PGIS</td>\n",
              "      <td>-9</td>\n",
              "      <td>-9</td>\n",
              "      <td>1</td>\n",
              "      <td>1</td>\n",
              "      <td>NaN</td>\n",
              "    </tr>\n",
              "  </tbody>\n",
              "</table>\n",
              "<p>5 rows × 135 columns</p>\n",
              "</div>\n",
              "      <button class=\"colab-df-convert\" onclick=\"convertToInteractive('df-2a57a093-2517-4209-82c6-2e1c787e46ce')\"\n",
              "              title=\"Convert this dataframe to an interactive table.\"\n",
              "              style=\"display:none;\">\n",
              "        \n",
              "  <svg xmlns=\"http://www.w3.org/2000/svg\" height=\"24px\"viewBox=\"0 0 24 24\"\n",
              "       width=\"24px\">\n",
              "    <path d=\"M0 0h24v24H0V0z\" fill=\"none\"/>\n",
              "    <path d=\"M18.56 5.44l.94 2.06.94-2.06 2.06-.94-2.06-.94-.94-2.06-.94 2.06-2.06.94zm-11 1L8.5 8.5l.94-2.06 2.06-.94-2.06-.94L8.5 2.5l-.94 2.06-2.06.94zm10 10l.94 2.06.94-2.06 2.06-.94-2.06-.94-.94-2.06-.94 2.06-2.06.94z\"/><path d=\"M17.41 7.96l-1.37-1.37c-.4-.4-.92-.59-1.43-.59-.52 0-1.04.2-1.43.59L10.3 9.45l-7.72 7.72c-.78.78-.78 2.05 0 2.83L4 21.41c.39.39.9.59 1.41.59.51 0 1.02-.2 1.41-.59l7.78-7.78 2.81-2.81c.8-.78.8-2.07 0-2.86zM5.41 20L4 18.59l7.72-7.72 1.47 1.35L5.41 20z\"/>\n",
              "  </svg>\n",
              "      </button>\n",
              "      \n",
              "  <style>\n",
              "    .colab-df-container {\n",
              "      display:flex;\n",
              "      flex-wrap:wrap;\n",
              "      gap: 12px;\n",
              "    }\n",
              "\n",
              "    .colab-df-convert {\n",
              "      background-color: #E8F0FE;\n",
              "      border: none;\n",
              "      border-radius: 50%;\n",
              "      cursor: pointer;\n",
              "      display: none;\n",
              "      fill: #1967D2;\n",
              "      height: 32px;\n",
              "      padding: 0 0 0 0;\n",
              "      width: 32px;\n",
              "    }\n",
              "\n",
              "    .colab-df-convert:hover {\n",
              "      background-color: #E2EBFA;\n",
              "      box-shadow: 0px 1px 2px rgba(60, 64, 67, 0.3), 0px 1px 3px 1px rgba(60, 64, 67, 0.15);\n",
              "      fill: #174EA6;\n",
              "    }\n",
              "\n",
              "    [theme=dark] .colab-df-convert {\n",
              "      background-color: #3B4455;\n",
              "      fill: #D2E3FC;\n",
              "    }\n",
              "\n",
              "    [theme=dark] .colab-df-convert:hover {\n",
              "      background-color: #434B5C;\n",
              "      box-shadow: 0px 1px 3px 1px rgba(0, 0, 0, 0.15);\n",
              "      filter: drop-shadow(0px 1px 2px rgba(0, 0, 0, 0.3));\n",
              "      fill: #FFFFFF;\n",
              "    }\n",
              "  </style>\n",
              "\n",
              "      <script>\n",
              "        const buttonEl =\n",
              "          document.querySelector('#df-2a57a093-2517-4209-82c6-2e1c787e46ce button.colab-df-convert');\n",
              "        buttonEl.style.display =\n",
              "          google.colab.kernel.accessAllowed ? 'block' : 'none';\n",
              "\n",
              "        async function convertToInteractive(key) {\n",
              "          const element = document.querySelector('#df-2a57a093-2517-4209-82c6-2e1c787e46ce');\n",
              "          const dataTable =\n",
              "            await google.colab.kernel.invokeFunction('convertToInteractive',\n",
              "                                                     [key], {});\n",
              "          if (!dataTable) return;\n",
              "\n",
              "          const docLinkHtml = 'Like what you see? Visit the ' +\n",
              "            '<a target=\"_blank\" href=https://colab.research.google.com/notebooks/data_table.ipynb>data table notebook</a>'\n",
              "            + ' to learn more about interactive tables.';\n",
              "          element.innerHTML = '';\n",
              "          dataTable['output_type'] = 'display_data';\n",
              "          await google.colab.output.renderOutput(dataTable, element);\n",
              "          const docLink = document.createElement('div');\n",
              "          docLink.innerHTML = docLinkHtml;\n",
              "          element.appendChild(docLink);\n",
              "        }\n",
              "      </script>\n",
              "    </div>\n",
              "  </div>\n",
              "  "
            ]
          },
          "metadata": {},
          "execution_count": 10
        }
      ]
    },
    {
      "cell_type": "code",
      "source": [
        "terrorism_df.tail()"
      ],
      "metadata": {
        "colab": {
          "base_uri": "https://localhost:8080/",
          "height": 716
        },
        "id": "geNIe8XEPMky",
        "outputId": "28d2268f-a175-45f4-f7db-01e484d4bc9f"
      },
      "execution_count": 11,
      "outputs": [
        {
          "output_type": "execute_result",
          "data": {
            "text/plain": [
              "             eventid  iyear  imonth  iday approxdate  extended resolution  \\\n",
              "181686  201712310022   2017      12    31        NaN         0        NaN   \n",
              "181687  201712310029   2017      12    31        NaN         0        NaN   \n",
              "181688  201712310030   2017      12    31        NaN         0        NaN   \n",
              "181689  201712310031   2017      12    31        NaN         0        NaN   \n",
              "181690  201712310032   2017      12    31        NaN         0        NaN   \n",
              "\n",
              "        country  country_txt  region  ... addnotes  \\\n",
              "181686      182      Somalia      11  ...      NaN   \n",
              "181687      200        Syria      10  ...      NaN   \n",
              "181688      160  Philippines       5  ...      NaN   \n",
              "181689       92        India       6  ...      NaN   \n",
              "181690      160  Philippines       5  ...      NaN   \n",
              "\n",
              "                                                   scite1  \\\n",
              "181686  \"Somalia: Al-Shabaab Militants Attack Army Che...   \n",
              "181687  \"Putin's 'victory' in Syria has turned into a ...   \n",
              "181688  \"Maguindanao clashes trap tribe members,\" Phil...   \n",
              "181689  \"Trader escapes grenade attack in Imphal,\" Bus...   \n",
              "181690  \"Security tightened in Cotabato following IED ...   \n",
              "\n",
              "                                                   scite2  \\\n",
              "181686  \"Highlights: Somalia Daily Media Highlights 2 ...   \n",
              "181687  \"Two Russian soldiers killed at Hmeymim base i...   \n",
              "181688                                                NaN   \n",
              "181689                                                NaN   \n",
              "181690  \"Security tightened in Cotabato City,\" Manila ...   \n",
              "\n",
              "                                                   scite3  \\\n",
              "181686  \"Highlights: Somalia Daily Media Highlights 1 ...   \n",
              "181687  \"Two Russian servicemen killed in Syria mortar...   \n",
              "181688                                                NaN   \n",
              "181689                                                NaN   \n",
              "181690                                                NaN   \n",
              "\n",
              "                        dbsource  INT_LOG  INT_IDEO INT_MISC INT_ANY  related  \n",
              "181686  START Primary Collection        0         0        0       0      NaN  \n",
              "181687  START Primary Collection       -9        -9        1       1      NaN  \n",
              "181688  START Primary Collection        0         0        0       0      NaN  \n",
              "181689  START Primary Collection       -9        -9        0      -9      NaN  \n",
              "181690  START Primary Collection       -9        -9        0      -9      NaN  \n",
              "\n",
              "[5 rows x 135 columns]"
            ],
            "text/html": [
              "\n",
              "  <div id=\"df-c24aa82a-0020-4ab2-9a46-a64c09eabd87\">\n",
              "    <div class=\"colab-df-container\">\n",
              "      <div>\n",
              "<style scoped>\n",
              "    .dataframe tbody tr th:only-of-type {\n",
              "        vertical-align: middle;\n",
              "    }\n",
              "\n",
              "    .dataframe tbody tr th {\n",
              "        vertical-align: top;\n",
              "    }\n",
              "\n",
              "    .dataframe thead th {\n",
              "        text-align: right;\n",
              "    }\n",
              "</style>\n",
              "<table border=\"1\" class=\"dataframe\">\n",
              "  <thead>\n",
              "    <tr style=\"text-align: right;\">\n",
              "      <th></th>\n",
              "      <th>eventid</th>\n",
              "      <th>iyear</th>\n",
              "      <th>imonth</th>\n",
              "      <th>iday</th>\n",
              "      <th>approxdate</th>\n",
              "      <th>extended</th>\n",
              "      <th>resolution</th>\n",
              "      <th>country</th>\n",
              "      <th>country_txt</th>\n",
              "      <th>region</th>\n",
              "      <th>...</th>\n",
              "      <th>addnotes</th>\n",
              "      <th>scite1</th>\n",
              "      <th>scite2</th>\n",
              "      <th>scite3</th>\n",
              "      <th>dbsource</th>\n",
              "      <th>INT_LOG</th>\n",
              "      <th>INT_IDEO</th>\n",
              "      <th>INT_MISC</th>\n",
              "      <th>INT_ANY</th>\n",
              "      <th>related</th>\n",
              "    </tr>\n",
              "  </thead>\n",
              "  <tbody>\n",
              "    <tr>\n",
              "      <th>181686</th>\n",
              "      <td>201712310022</td>\n",
              "      <td>2017</td>\n",
              "      <td>12</td>\n",
              "      <td>31</td>\n",
              "      <td>NaN</td>\n",
              "      <td>0</td>\n",
              "      <td>NaN</td>\n",
              "      <td>182</td>\n",
              "      <td>Somalia</td>\n",
              "      <td>11</td>\n",
              "      <td>...</td>\n",
              "      <td>NaN</td>\n",
              "      <td>\"Somalia: Al-Shabaab Militants Attack Army Che...</td>\n",
              "      <td>\"Highlights: Somalia Daily Media Highlights 2 ...</td>\n",
              "      <td>\"Highlights: Somalia Daily Media Highlights 1 ...</td>\n",
              "      <td>START Primary Collection</td>\n",
              "      <td>0</td>\n",
              "      <td>0</td>\n",
              "      <td>0</td>\n",
              "      <td>0</td>\n",
              "      <td>NaN</td>\n",
              "    </tr>\n",
              "    <tr>\n",
              "      <th>181687</th>\n",
              "      <td>201712310029</td>\n",
              "      <td>2017</td>\n",
              "      <td>12</td>\n",
              "      <td>31</td>\n",
              "      <td>NaN</td>\n",
              "      <td>0</td>\n",
              "      <td>NaN</td>\n",
              "      <td>200</td>\n",
              "      <td>Syria</td>\n",
              "      <td>10</td>\n",
              "      <td>...</td>\n",
              "      <td>NaN</td>\n",
              "      <td>\"Putin's 'victory' in Syria has turned into a ...</td>\n",
              "      <td>\"Two Russian soldiers killed at Hmeymim base i...</td>\n",
              "      <td>\"Two Russian servicemen killed in Syria mortar...</td>\n",
              "      <td>START Primary Collection</td>\n",
              "      <td>-9</td>\n",
              "      <td>-9</td>\n",
              "      <td>1</td>\n",
              "      <td>1</td>\n",
              "      <td>NaN</td>\n",
              "    </tr>\n",
              "    <tr>\n",
              "      <th>181688</th>\n",
              "      <td>201712310030</td>\n",
              "      <td>2017</td>\n",
              "      <td>12</td>\n",
              "      <td>31</td>\n",
              "      <td>NaN</td>\n",
              "      <td>0</td>\n",
              "      <td>NaN</td>\n",
              "      <td>160</td>\n",
              "      <td>Philippines</td>\n",
              "      <td>5</td>\n",
              "      <td>...</td>\n",
              "      <td>NaN</td>\n",
              "      <td>\"Maguindanao clashes trap tribe members,\" Phil...</td>\n",
              "      <td>NaN</td>\n",
              "      <td>NaN</td>\n",
              "      <td>START Primary Collection</td>\n",
              "      <td>0</td>\n",
              "      <td>0</td>\n",
              "      <td>0</td>\n",
              "      <td>0</td>\n",
              "      <td>NaN</td>\n",
              "    </tr>\n",
              "    <tr>\n",
              "      <th>181689</th>\n",
              "      <td>201712310031</td>\n",
              "      <td>2017</td>\n",
              "      <td>12</td>\n",
              "      <td>31</td>\n",
              "      <td>NaN</td>\n",
              "      <td>0</td>\n",
              "      <td>NaN</td>\n",
              "      <td>92</td>\n",
              "      <td>India</td>\n",
              "      <td>6</td>\n",
              "      <td>...</td>\n",
              "      <td>NaN</td>\n",
              "      <td>\"Trader escapes grenade attack in Imphal,\" Bus...</td>\n",
              "      <td>NaN</td>\n",
              "      <td>NaN</td>\n",
              "      <td>START Primary Collection</td>\n",
              "      <td>-9</td>\n",
              "      <td>-9</td>\n",
              "      <td>0</td>\n",
              "      <td>-9</td>\n",
              "      <td>NaN</td>\n",
              "    </tr>\n",
              "    <tr>\n",
              "      <th>181690</th>\n",
              "      <td>201712310032</td>\n",
              "      <td>2017</td>\n",
              "      <td>12</td>\n",
              "      <td>31</td>\n",
              "      <td>NaN</td>\n",
              "      <td>0</td>\n",
              "      <td>NaN</td>\n",
              "      <td>160</td>\n",
              "      <td>Philippines</td>\n",
              "      <td>5</td>\n",
              "      <td>...</td>\n",
              "      <td>NaN</td>\n",
              "      <td>\"Security tightened in Cotabato following IED ...</td>\n",
              "      <td>\"Security tightened in Cotabato City,\" Manila ...</td>\n",
              "      <td>NaN</td>\n",
              "      <td>START Primary Collection</td>\n",
              "      <td>-9</td>\n",
              "      <td>-9</td>\n",
              "      <td>0</td>\n",
              "      <td>-9</td>\n",
              "      <td>NaN</td>\n",
              "    </tr>\n",
              "  </tbody>\n",
              "</table>\n",
              "<p>5 rows × 135 columns</p>\n",
              "</div>\n",
              "      <button class=\"colab-df-convert\" onclick=\"convertToInteractive('df-c24aa82a-0020-4ab2-9a46-a64c09eabd87')\"\n",
              "              title=\"Convert this dataframe to an interactive table.\"\n",
              "              style=\"display:none;\">\n",
              "        \n",
              "  <svg xmlns=\"http://www.w3.org/2000/svg\" height=\"24px\"viewBox=\"0 0 24 24\"\n",
              "       width=\"24px\">\n",
              "    <path d=\"M0 0h24v24H0V0z\" fill=\"none\"/>\n",
              "    <path d=\"M18.56 5.44l.94 2.06.94-2.06 2.06-.94-2.06-.94-.94-2.06-.94 2.06-2.06.94zm-11 1L8.5 8.5l.94-2.06 2.06-.94-2.06-.94L8.5 2.5l-.94 2.06-2.06.94zm10 10l.94 2.06.94-2.06 2.06-.94-2.06-.94-.94-2.06-.94 2.06-2.06.94z\"/><path d=\"M17.41 7.96l-1.37-1.37c-.4-.4-.92-.59-1.43-.59-.52 0-1.04.2-1.43.59L10.3 9.45l-7.72 7.72c-.78.78-.78 2.05 0 2.83L4 21.41c.39.39.9.59 1.41.59.51 0 1.02-.2 1.41-.59l7.78-7.78 2.81-2.81c.8-.78.8-2.07 0-2.86zM5.41 20L4 18.59l7.72-7.72 1.47 1.35L5.41 20z\"/>\n",
              "  </svg>\n",
              "      </button>\n",
              "      \n",
              "  <style>\n",
              "    .colab-df-container {\n",
              "      display:flex;\n",
              "      flex-wrap:wrap;\n",
              "      gap: 12px;\n",
              "    }\n",
              "\n",
              "    .colab-df-convert {\n",
              "      background-color: #E8F0FE;\n",
              "      border: none;\n",
              "      border-radius: 50%;\n",
              "      cursor: pointer;\n",
              "      display: none;\n",
              "      fill: #1967D2;\n",
              "      height: 32px;\n",
              "      padding: 0 0 0 0;\n",
              "      width: 32px;\n",
              "    }\n",
              "\n",
              "    .colab-df-convert:hover {\n",
              "      background-color: #E2EBFA;\n",
              "      box-shadow: 0px 1px 2px rgba(60, 64, 67, 0.3), 0px 1px 3px 1px rgba(60, 64, 67, 0.15);\n",
              "      fill: #174EA6;\n",
              "    }\n",
              "\n",
              "    [theme=dark] .colab-df-convert {\n",
              "      background-color: #3B4455;\n",
              "      fill: #D2E3FC;\n",
              "    }\n",
              "\n",
              "    [theme=dark] .colab-df-convert:hover {\n",
              "      background-color: #434B5C;\n",
              "      box-shadow: 0px 1px 3px 1px rgba(0, 0, 0, 0.15);\n",
              "      filter: drop-shadow(0px 1px 2px rgba(0, 0, 0, 0.3));\n",
              "      fill: #FFFFFF;\n",
              "    }\n",
              "  </style>\n",
              "\n",
              "      <script>\n",
              "        const buttonEl =\n",
              "          document.querySelector('#df-c24aa82a-0020-4ab2-9a46-a64c09eabd87 button.colab-df-convert');\n",
              "        buttonEl.style.display =\n",
              "          google.colab.kernel.accessAllowed ? 'block' : 'none';\n",
              "\n",
              "        async function convertToInteractive(key) {\n",
              "          const element = document.querySelector('#df-c24aa82a-0020-4ab2-9a46-a64c09eabd87');\n",
              "          const dataTable =\n",
              "            await google.colab.kernel.invokeFunction('convertToInteractive',\n",
              "                                                     [key], {});\n",
              "          if (!dataTable) return;\n",
              "\n",
              "          const docLinkHtml = 'Like what you see? Visit the ' +\n",
              "            '<a target=\"_blank\" href=https://colab.research.google.com/notebooks/data_table.ipynb>data table notebook</a>'\n",
              "            + ' to learn more about interactive tables.';\n",
              "          element.innerHTML = '';\n",
              "          dataTable['output_type'] = 'display_data';\n",
              "          await google.colab.output.renderOutput(dataTable, element);\n",
              "          const docLink = document.createElement('div');\n",
              "          docLink.innerHTML = docLinkHtml;\n",
              "          element.appendChild(docLink);\n",
              "        }\n",
              "      </script>\n",
              "    </div>\n",
              "  </div>\n",
              "  "
            ]
          },
          "metadata": {},
          "execution_count": 11
        }
      ]
    },
    {
      "cell_type": "code",
      "source": [
        "terrorism_df.columns"
      ],
      "metadata": {
        "colab": {
          "base_uri": "https://localhost:8080/"
        },
        "id": "hvvzATBjPy7_",
        "outputId": "2fb30145-4727-4e79-ea6e-c1cb65615caf"
      },
      "execution_count": 12,
      "outputs": [
        {
          "output_type": "execute_result",
          "data": {
            "text/plain": [
              "Index(['eventid', 'iyear', 'imonth', 'iday', 'approxdate', 'extended',\n",
              "       'resolution', 'country', 'country_txt', 'region',\n",
              "       ...\n",
              "       'addnotes', 'scite1', 'scite2', 'scite3', 'dbsource', 'INT_LOG',\n",
              "       'INT_IDEO', 'INT_MISC', 'INT_ANY', 'related'],\n",
              "      dtype='object', length=135)"
            ]
          },
          "metadata": {},
          "execution_count": 12
        }
      ]
    },
    {
      "cell_type": "code",
      "source": [
        "No_of_cols=terrorism_df.columns.nunique()\n",
        "print(\"There are total %d columns in the data\"%No_of_cols)"
      ],
      "metadata": {
        "colab": {
          "base_uri": "https://localhost:8080/"
        },
        "id": "v4iungP8TeW6",
        "outputId": "88ca8ef7-9031-42e4-fabd-0e9ae1cc9d8f"
      },
      "execution_count": 13,
      "outputs": [
        {
          "output_type": "stream",
          "name": "stdout",
          "text": [
            "There are total 135 columns in the data\n"
          ]
        }
      ]
    },
    {
      "cell_type": "code",
      "source": [
        "#Rename & select coloumns that are useful for analaysis.\n",
        "\n",
        "terrorism_df=terrorism_df.rename(columns={'iyear':'Year','imonth':'Month','iday':'Day','country_txt':'Country','region_txt':'Region',\n",
        "                             'provstate':'State','city':'City','attacktype1_txt':'Attack_type','targtype1_txt':'Target_type',\n",
        "                             'targsubtype1_txt':'Target_subtype','gname':'Gang_name','weaptype1_txt':'Weapon_type'})"
      ],
      "metadata": {
        "id": "motb0narYj-q"
      },
      "execution_count": 14,
      "outputs": []
    },
    {
      "cell_type": "code",
      "source": [
        "#selection of couloums useful for analsis.\n",
        "terrorism_df=terrorism_df[['Year','Month','Day','Country','Region','State','City','Attack_type','Target_type','Target_subtype','Gang_name','Weapon_type']]"
      ],
      "metadata": {
        "id": "GNTRlmHJcAEx"
      },
      "execution_count": 15,
      "outputs": []
    },
    {
      "cell_type": "code",
      "source": [
        "terrorism_df"
      ],
      "metadata": {
        "colab": {
          "base_uri": "https://localhost:8080/",
          "height": 798
        },
        "id": "XcOteI4FcQLs",
        "outputId": "f645017d-d7cc-4d68-ad22-49ade1eb8384"
      },
      "execution_count": 16,
      "outputs": [
        {
          "output_type": "execute_result",
          "data": {
            "text/plain": [
              "        Year  Month  Day             Country                       Region  \\\n",
              "0       1970      7    2  Dominican Republic  Central America & Caribbean   \n",
              "1       1970      0    0              Mexico                North America   \n",
              "2       1970      1    0         Philippines               Southeast Asia   \n",
              "3       1970      1    0              Greece               Western Europe   \n",
              "4       1970      1    0               Japan                    East Asia   \n",
              "...      ...    ...  ...                 ...                          ...   \n",
              "181686  2017     12   31             Somalia           Sub-Saharan Africa   \n",
              "181687  2017     12   31               Syria   Middle East & North Africa   \n",
              "181688  2017     12   31         Philippines               Southeast Asia   \n",
              "181689  2017     12   31               India                   South Asia   \n",
              "181690  2017     12   31         Philippines               Southeast Asia   \n",
              "\n",
              "                  State           City                     Attack_type  \\\n",
              "0                   NaN  Santo Domingo                   Assassination   \n",
              "1               Federal    Mexico city     Hostage Taking (Kidnapping)   \n",
              "2                Tarlac        Unknown                   Assassination   \n",
              "3                Attica         Athens               Bombing/Explosion   \n",
              "4               Fukouka        Fukouka  Facility/Infrastructure Attack   \n",
              "...                 ...            ...                             ...   \n",
              "181686  Middle Shebelle  Ceelka Geelow                   Armed Assault   \n",
              "181687         Lattakia         Jableh               Bombing/Explosion   \n",
              "181688      Maguindanao       Kubentog  Facility/Infrastructure Attack   \n",
              "181689          Manipur         Imphal               Bombing/Explosion   \n",
              "181690      Maguindanao  Cotabato City               Bombing/Explosion   \n",
              "\n",
              "                        Target_type  \\\n",
              "0       Private Citizens & Property   \n",
              "1           Government (Diplomatic)   \n",
              "2               Journalists & Media   \n",
              "3           Government (Diplomatic)   \n",
              "4           Government (Diplomatic)   \n",
              "...                             ...   \n",
              "181686                     Military   \n",
              "181687                     Military   \n",
              "181688  Private Citizens & Property   \n",
              "181689         Government (General)   \n",
              "181690                      Unknown   \n",
              "\n",
              "                                           Target_subtype  \\\n",
              "0                                          Named Civilian   \n",
              "1       Diplomatic Personnel (outside of embassy, cons...   \n",
              "2                         Radio Journalist/Staff/Facility   \n",
              "3                                       Embassy/Consulate   \n",
              "4                                       Embassy/Consulate   \n",
              "...                                                   ...   \n",
              "181686                                Military Checkpoint   \n",
              "181687      Military Barracks/Base/Headquarters/Checkpost   \n",
              "181688                          House/Apartment/Residence   \n",
              "181689                Government Building/Facility/Office   \n",
              "181690                                                NaN   \n",
              "\n",
              "                                         Gang_name Weapon_type  \n",
              "0                                           MANO-D     Unknown  \n",
              "1               23rd of September Communist League     Unknown  \n",
              "2                                          Unknown     Unknown  \n",
              "3                                          Unknown  Explosives  \n",
              "4                                          Unknown  Incendiary  \n",
              "...                                            ...         ...  \n",
              "181686                                  Al-Shabaab    Firearms  \n",
              "181687                           Muslim extremists  Explosives  \n",
              "181688  Bangsamoro Islamic Freedom Movement (BIFM)  Incendiary  \n",
              "181689                                     Unknown  Explosives  \n",
              "181690                                     Unknown  Explosives  \n",
              "\n",
              "[181691 rows x 12 columns]"
            ],
            "text/html": [
              "\n",
              "  <div id=\"df-372dbcc6-1e32-4b04-9ab6-a0fd5f0744f1\">\n",
              "    <div class=\"colab-df-container\">\n",
              "      <div>\n",
              "<style scoped>\n",
              "    .dataframe tbody tr th:only-of-type {\n",
              "        vertical-align: middle;\n",
              "    }\n",
              "\n",
              "    .dataframe tbody tr th {\n",
              "        vertical-align: top;\n",
              "    }\n",
              "\n",
              "    .dataframe thead th {\n",
              "        text-align: right;\n",
              "    }\n",
              "</style>\n",
              "<table border=\"1\" class=\"dataframe\">\n",
              "  <thead>\n",
              "    <tr style=\"text-align: right;\">\n",
              "      <th></th>\n",
              "      <th>Year</th>\n",
              "      <th>Month</th>\n",
              "      <th>Day</th>\n",
              "      <th>Country</th>\n",
              "      <th>Region</th>\n",
              "      <th>State</th>\n",
              "      <th>City</th>\n",
              "      <th>Attack_type</th>\n",
              "      <th>Target_type</th>\n",
              "      <th>Target_subtype</th>\n",
              "      <th>Gang_name</th>\n",
              "      <th>Weapon_type</th>\n",
              "    </tr>\n",
              "  </thead>\n",
              "  <tbody>\n",
              "    <tr>\n",
              "      <th>0</th>\n",
              "      <td>1970</td>\n",
              "      <td>7</td>\n",
              "      <td>2</td>\n",
              "      <td>Dominican Republic</td>\n",
              "      <td>Central America &amp; Caribbean</td>\n",
              "      <td>NaN</td>\n",
              "      <td>Santo Domingo</td>\n",
              "      <td>Assassination</td>\n",
              "      <td>Private Citizens &amp; Property</td>\n",
              "      <td>Named Civilian</td>\n",
              "      <td>MANO-D</td>\n",
              "      <td>Unknown</td>\n",
              "    </tr>\n",
              "    <tr>\n",
              "      <th>1</th>\n",
              "      <td>1970</td>\n",
              "      <td>0</td>\n",
              "      <td>0</td>\n",
              "      <td>Mexico</td>\n",
              "      <td>North America</td>\n",
              "      <td>Federal</td>\n",
              "      <td>Mexico city</td>\n",
              "      <td>Hostage Taking (Kidnapping)</td>\n",
              "      <td>Government (Diplomatic)</td>\n",
              "      <td>Diplomatic Personnel (outside of embassy, cons...</td>\n",
              "      <td>23rd of September Communist League</td>\n",
              "      <td>Unknown</td>\n",
              "    </tr>\n",
              "    <tr>\n",
              "      <th>2</th>\n",
              "      <td>1970</td>\n",
              "      <td>1</td>\n",
              "      <td>0</td>\n",
              "      <td>Philippines</td>\n",
              "      <td>Southeast Asia</td>\n",
              "      <td>Tarlac</td>\n",
              "      <td>Unknown</td>\n",
              "      <td>Assassination</td>\n",
              "      <td>Journalists &amp; Media</td>\n",
              "      <td>Radio Journalist/Staff/Facility</td>\n",
              "      <td>Unknown</td>\n",
              "      <td>Unknown</td>\n",
              "    </tr>\n",
              "    <tr>\n",
              "      <th>3</th>\n",
              "      <td>1970</td>\n",
              "      <td>1</td>\n",
              "      <td>0</td>\n",
              "      <td>Greece</td>\n",
              "      <td>Western Europe</td>\n",
              "      <td>Attica</td>\n",
              "      <td>Athens</td>\n",
              "      <td>Bombing/Explosion</td>\n",
              "      <td>Government (Diplomatic)</td>\n",
              "      <td>Embassy/Consulate</td>\n",
              "      <td>Unknown</td>\n",
              "      <td>Explosives</td>\n",
              "    </tr>\n",
              "    <tr>\n",
              "      <th>4</th>\n",
              "      <td>1970</td>\n",
              "      <td>1</td>\n",
              "      <td>0</td>\n",
              "      <td>Japan</td>\n",
              "      <td>East Asia</td>\n",
              "      <td>Fukouka</td>\n",
              "      <td>Fukouka</td>\n",
              "      <td>Facility/Infrastructure Attack</td>\n",
              "      <td>Government (Diplomatic)</td>\n",
              "      <td>Embassy/Consulate</td>\n",
              "      <td>Unknown</td>\n",
              "      <td>Incendiary</td>\n",
              "    </tr>\n",
              "    <tr>\n",
              "      <th>...</th>\n",
              "      <td>...</td>\n",
              "      <td>...</td>\n",
              "      <td>...</td>\n",
              "      <td>...</td>\n",
              "      <td>...</td>\n",
              "      <td>...</td>\n",
              "      <td>...</td>\n",
              "      <td>...</td>\n",
              "      <td>...</td>\n",
              "      <td>...</td>\n",
              "      <td>...</td>\n",
              "      <td>...</td>\n",
              "    </tr>\n",
              "    <tr>\n",
              "      <th>181686</th>\n",
              "      <td>2017</td>\n",
              "      <td>12</td>\n",
              "      <td>31</td>\n",
              "      <td>Somalia</td>\n",
              "      <td>Sub-Saharan Africa</td>\n",
              "      <td>Middle Shebelle</td>\n",
              "      <td>Ceelka Geelow</td>\n",
              "      <td>Armed Assault</td>\n",
              "      <td>Military</td>\n",
              "      <td>Military Checkpoint</td>\n",
              "      <td>Al-Shabaab</td>\n",
              "      <td>Firearms</td>\n",
              "    </tr>\n",
              "    <tr>\n",
              "      <th>181687</th>\n",
              "      <td>2017</td>\n",
              "      <td>12</td>\n",
              "      <td>31</td>\n",
              "      <td>Syria</td>\n",
              "      <td>Middle East &amp; North Africa</td>\n",
              "      <td>Lattakia</td>\n",
              "      <td>Jableh</td>\n",
              "      <td>Bombing/Explosion</td>\n",
              "      <td>Military</td>\n",
              "      <td>Military Barracks/Base/Headquarters/Checkpost</td>\n",
              "      <td>Muslim extremists</td>\n",
              "      <td>Explosives</td>\n",
              "    </tr>\n",
              "    <tr>\n",
              "      <th>181688</th>\n",
              "      <td>2017</td>\n",
              "      <td>12</td>\n",
              "      <td>31</td>\n",
              "      <td>Philippines</td>\n",
              "      <td>Southeast Asia</td>\n",
              "      <td>Maguindanao</td>\n",
              "      <td>Kubentog</td>\n",
              "      <td>Facility/Infrastructure Attack</td>\n",
              "      <td>Private Citizens &amp; Property</td>\n",
              "      <td>House/Apartment/Residence</td>\n",
              "      <td>Bangsamoro Islamic Freedom Movement (BIFM)</td>\n",
              "      <td>Incendiary</td>\n",
              "    </tr>\n",
              "    <tr>\n",
              "      <th>181689</th>\n",
              "      <td>2017</td>\n",
              "      <td>12</td>\n",
              "      <td>31</td>\n",
              "      <td>India</td>\n",
              "      <td>South Asia</td>\n",
              "      <td>Manipur</td>\n",
              "      <td>Imphal</td>\n",
              "      <td>Bombing/Explosion</td>\n",
              "      <td>Government (General)</td>\n",
              "      <td>Government Building/Facility/Office</td>\n",
              "      <td>Unknown</td>\n",
              "      <td>Explosives</td>\n",
              "    </tr>\n",
              "    <tr>\n",
              "      <th>181690</th>\n",
              "      <td>2017</td>\n",
              "      <td>12</td>\n",
              "      <td>31</td>\n",
              "      <td>Philippines</td>\n",
              "      <td>Southeast Asia</td>\n",
              "      <td>Maguindanao</td>\n",
              "      <td>Cotabato City</td>\n",
              "      <td>Bombing/Explosion</td>\n",
              "      <td>Unknown</td>\n",
              "      <td>NaN</td>\n",
              "      <td>Unknown</td>\n",
              "      <td>Explosives</td>\n",
              "    </tr>\n",
              "  </tbody>\n",
              "</table>\n",
              "<p>181691 rows × 12 columns</p>\n",
              "</div>\n",
              "      <button class=\"colab-df-convert\" onclick=\"convertToInteractive('df-372dbcc6-1e32-4b04-9ab6-a0fd5f0744f1')\"\n",
              "              title=\"Convert this dataframe to an interactive table.\"\n",
              "              style=\"display:none;\">\n",
              "        \n",
              "  <svg xmlns=\"http://www.w3.org/2000/svg\" height=\"24px\"viewBox=\"0 0 24 24\"\n",
              "       width=\"24px\">\n",
              "    <path d=\"M0 0h24v24H0V0z\" fill=\"none\"/>\n",
              "    <path d=\"M18.56 5.44l.94 2.06.94-2.06 2.06-.94-2.06-.94-.94-2.06-.94 2.06-2.06.94zm-11 1L8.5 8.5l.94-2.06 2.06-.94-2.06-.94L8.5 2.5l-.94 2.06-2.06.94zm10 10l.94 2.06.94-2.06 2.06-.94-2.06-.94-.94-2.06-.94 2.06-2.06.94z\"/><path d=\"M17.41 7.96l-1.37-1.37c-.4-.4-.92-.59-1.43-.59-.52 0-1.04.2-1.43.59L10.3 9.45l-7.72 7.72c-.78.78-.78 2.05 0 2.83L4 21.41c.39.39.9.59 1.41.59.51 0 1.02-.2 1.41-.59l7.78-7.78 2.81-2.81c.8-.78.8-2.07 0-2.86zM5.41 20L4 18.59l7.72-7.72 1.47 1.35L5.41 20z\"/>\n",
              "  </svg>\n",
              "      </button>\n",
              "      \n",
              "  <style>\n",
              "    .colab-df-container {\n",
              "      display:flex;\n",
              "      flex-wrap:wrap;\n",
              "      gap: 12px;\n",
              "    }\n",
              "\n",
              "    .colab-df-convert {\n",
              "      background-color: #E8F0FE;\n",
              "      border: none;\n",
              "      border-radius: 50%;\n",
              "      cursor: pointer;\n",
              "      display: none;\n",
              "      fill: #1967D2;\n",
              "      height: 32px;\n",
              "      padding: 0 0 0 0;\n",
              "      width: 32px;\n",
              "    }\n",
              "\n",
              "    .colab-df-convert:hover {\n",
              "      background-color: #E2EBFA;\n",
              "      box-shadow: 0px 1px 2px rgba(60, 64, 67, 0.3), 0px 1px 3px 1px rgba(60, 64, 67, 0.15);\n",
              "      fill: #174EA6;\n",
              "    }\n",
              "\n",
              "    [theme=dark] .colab-df-convert {\n",
              "      background-color: #3B4455;\n",
              "      fill: #D2E3FC;\n",
              "    }\n",
              "\n",
              "    [theme=dark] .colab-df-convert:hover {\n",
              "      background-color: #434B5C;\n",
              "      box-shadow: 0px 1px 3px 1px rgba(0, 0, 0, 0.15);\n",
              "      filter: drop-shadow(0px 1px 2px rgba(0, 0, 0, 0.3));\n",
              "      fill: #FFFFFF;\n",
              "    }\n",
              "  </style>\n",
              "\n",
              "      <script>\n",
              "        const buttonEl =\n",
              "          document.querySelector('#df-372dbcc6-1e32-4b04-9ab6-a0fd5f0744f1 button.colab-df-convert');\n",
              "        buttonEl.style.display =\n",
              "          google.colab.kernel.accessAllowed ? 'block' : 'none';\n",
              "\n",
              "        async function convertToInteractive(key) {\n",
              "          const element = document.querySelector('#df-372dbcc6-1e32-4b04-9ab6-a0fd5f0744f1');\n",
              "          const dataTable =\n",
              "            await google.colab.kernel.invokeFunction('convertToInteractive',\n",
              "                                                     [key], {});\n",
              "          if (!dataTable) return;\n",
              "\n",
              "          const docLinkHtml = 'Like what you see? Visit the ' +\n",
              "            '<a target=\"_blank\" href=https://colab.research.google.com/notebooks/data_table.ipynb>data table notebook</a>'\n",
              "            + ' to learn more about interactive tables.';\n",
              "          element.innerHTML = '';\n",
              "          dataTable['output_type'] = 'display_data';\n",
              "          await google.colab.output.renderOutput(dataTable, element);\n",
              "          const docLink = document.createElement('div');\n",
              "          docLink.innerHTML = docLinkHtml;\n",
              "          element.appendChild(docLink);\n",
              "        }\n",
              "      </script>\n",
              "    </div>\n",
              "  </div>\n",
              "  "
            ]
          },
          "metadata": {},
          "execution_count": 16
        }
      ]
    },
    {
      "cell_type": "markdown",
      "source": [
        "**Working On NaN/NA/Null/Missing values**"
      ],
      "metadata": {
        "id": "tf4l9bh2flQk"
      }
    },
    {
      "cell_type": "code",
      "source": [
        "#Fill NaN values in Target_subtype column as Others\n",
        "terrorism_df['Target_subtype'] = terrorism_df['Target_subtype'].fillna('others')\n"
      ],
      "metadata": {
        "id": "fuwMThABfIgY"
      },
      "execution_count": 17,
      "outputs": []
    },
    {
      "cell_type": "code",
      "source": [
        "#Fill NaN values in the State column as Unknown\n",
        "terrorism_df['State']=terrorism_df['State'].fillna('Unknown')"
      ],
      "metadata": {
        "id": "4KZebbM_g2Ev"
      },
      "execution_count": 18,
      "outputs": []
    },
    {
      "cell_type": "code",
      "source": [
        "#Fill NaN values in the city column as Unknown\n",
        "terrorism_df['City']=terrorism_df['City'].fillna('Unknown')"
      ],
      "metadata": {
        "id": "XZM01Pr_hSoR"
      },
      "execution_count": 19,
      "outputs": []
    },
    {
      "cell_type": "code",
      "source": [
        "terrorism_df.replace( {\"Vehicle (not to include vehicle-borne explosives, i.e., car or truck bombs)\": \"Vehicle\"},inplace = True)\n",
        "terrorism_df.shape"
      ],
      "metadata": {
        "colab": {
          "base_uri": "https://localhost:8080/"
        },
        "id": "Axfc2Vn5h7at",
        "outputId": "e72fe4e6-2960-41e2-c78f-fecd73344d95"
      },
      "execution_count": 20,
      "outputs": [
        {
          "output_type": "execute_result",
          "data": {
            "text/plain": [
              "(181691, 12)"
            ]
          },
          "metadata": {},
          "execution_count": 20
        }
      ]
    },
    {
      "cell_type": "code",
      "source": [
        "#checking for null Values\n",
        "terrorism_df.isnull().sum()"
      ],
      "metadata": {
        "colab": {
          "base_uri": "https://localhost:8080/"
        },
        "id": "IwCsXrNYiOna",
        "outputId": "50b3dfe3-1460-45f9-f7b0-5f75da57711c"
      },
      "execution_count": 21,
      "outputs": [
        {
          "output_type": "execute_result",
          "data": {
            "text/plain": [
              "Year              0\n",
              "Month             0\n",
              "Day               0\n",
              "Country           0\n",
              "Region            0\n",
              "State             0\n",
              "City              0\n",
              "Attack_type       0\n",
              "Target_type       0\n",
              "Target_subtype    0\n",
              "Gang_name         0\n",
              "Weapon_type       0\n",
              "dtype: int64"
            ]
          },
          "metadata": {},
          "execution_count": 21
        }
      ]
    },
    {
      "cell_type": "code",
      "source": [
        "Total_countries=terrorism_df['Country'].nunique()\n",
        "print(\"Total %d countries were noted in the data\"%Total_countries)"
      ],
      "metadata": {
        "colab": {
          "base_uri": "https://localhost:8080/"
        },
        "id": "_ogPeu7widcj",
        "outputId": "94826857-7c50-4b32-c1ce-b8866f372eb1"
      },
      "execution_count": 22,
      "outputs": [
        {
          "output_type": "stream",
          "name": "stdout",
          "text": [
            "Total 205 countries were noted in the data\n"
          ]
        }
      ]
    },
    {
      "cell_type": "code",
      "source": [
        "print(terrorism_df['Region'].unique())"
      ],
      "metadata": {
        "colab": {
          "base_uri": "https://localhost:8080/"
        },
        "id": "JTLmv2gmkhjL",
        "outputId": "8f99b5da-5882-4d1c-d1b6-37f461e09599"
      },
      "execution_count": 23,
      "outputs": [
        {
          "output_type": "stream",
          "name": "stdout",
          "text": [
            "['Central America & Caribbean' 'North America' 'Southeast Asia'\n",
            " 'Western Europe' 'East Asia' 'South America' 'Eastern Europe'\n",
            " 'Sub-Saharan Africa' 'Middle East & North Africa' 'Australasia & Oceania'\n",
            " 'South Asia' 'Central Asia']\n"
          ]
        }
      ]
    },
    {
      "cell_type": "code",
      "source": [
        "print(terrorism_df['Attack_type'].unique())"
      ],
      "metadata": {
        "colab": {
          "base_uri": "https://localhost:8080/"
        },
        "id": "LfclUSbNlN1_",
        "outputId": "cb17adee-e7a0-4459-dd73-d47cfc12ab37"
      },
      "execution_count": 24,
      "outputs": [
        {
          "output_type": "stream",
          "name": "stdout",
          "text": [
            "['Assassination' 'Hostage Taking (Kidnapping)' 'Bombing/Explosion'\n",
            " 'Facility/Infrastructure Attack' 'Armed Assault' 'Hijacking' 'Unknown'\n",
            " 'Unarmed Assault' 'Hostage Taking (Barricade Incident)']\n"
          ]
        }
      ]
    },
    {
      "cell_type": "code",
      "source": [
        "print(terrorism_df['Target_type'].unique())"
      ],
      "metadata": {
        "colab": {
          "base_uri": "https://localhost:8080/"
        },
        "id": "3gfGye9slSF7",
        "outputId": "c849bf16-fad5-4324-ee5c-9e5ffb11a37b"
      },
      "execution_count": 25,
      "outputs": [
        {
          "output_type": "stream",
          "name": "stdout",
          "text": [
            "['Private Citizens & Property' 'Government (Diplomatic)'\n",
            " 'Journalists & Media' 'Police' 'Utilities' 'Military'\n",
            " 'Government (General)' 'Airports & Aircraft' 'Business'\n",
            " 'Educational Institution' 'Violent Political Party'\n",
            " 'Religious Figures/Institutions' 'Unknown' 'Transportation' 'Tourists'\n",
            " 'NGO' 'Telecommunication' 'Food or Water Supply'\n",
            " 'Terrorists/Non-State Militia' 'Other' 'Maritime' 'Abortion Related']\n"
          ]
        }
      ]
    },
    {
      "cell_type": "code",
      "source": [
        "print(terrorism_df['Gang_name'].unique())"
      ],
      "metadata": {
        "colab": {
          "base_uri": "https://localhost:8080/"
        },
        "id": "ygXwSyLRlcH4",
        "outputId": "fa11d363-9d6b-47e5-9201-50671d6c4920"
      },
      "execution_count": 26,
      "outputs": [
        {
          "output_type": "stream",
          "name": "stdout",
          "text": [
            "['MANO-D' '23rd of September Communist League' 'Unknown' ...\n",
            " 'Fatoni Warriors' 'Minorities of Metropolitan Attacks'\n",
            " 'Baloch Republican Party']\n"
          ]
        }
      ]
    },
    {
      "cell_type": "code",
      "source": [
        "print(terrorism_df['Weapon_type'].unique())"
      ],
      "metadata": {
        "colab": {
          "base_uri": "https://localhost:8080/"
        },
        "id": "NvCWV70PlnRv",
        "outputId": "e94b8fba-e747-40dd-c6eb-993d1a2fc00d"
      },
      "execution_count": 27,
      "outputs": [
        {
          "output_type": "stream",
          "name": "stdout",
          "text": [
            "['Unknown' 'Explosives' 'Incendiary' 'Firearms' 'Chemical' 'Melee'\n",
            " 'Sabotage Equipment' 'Vehicle' 'Fake Weapons' 'Radiological' 'Other'\n",
            " 'Biological']\n"
          ]
        }
      ]
    },
    {
      "cell_type": "code",
      "source": [
        "terrorism_df.info()"
      ],
      "metadata": {
        "colab": {
          "base_uri": "https://localhost:8080/"
        },
        "id": "bmD_d2JIlxMK",
        "outputId": "bed73ba6-9b03-4534-9219-52f87bfbdc97"
      },
      "execution_count": 28,
      "outputs": [
        {
          "output_type": "stream",
          "name": "stdout",
          "text": [
            "<class 'pandas.core.frame.DataFrame'>\n",
            "RangeIndex: 181691 entries, 0 to 181690\n",
            "Data columns (total 12 columns):\n",
            " #   Column          Non-Null Count   Dtype \n",
            "---  ------          --------------   ----- \n",
            " 0   Year            181691 non-null  int64 \n",
            " 1   Month           181691 non-null  int64 \n",
            " 2   Day             181691 non-null  int64 \n",
            " 3   Country         181691 non-null  object\n",
            " 4   Region          181691 non-null  object\n",
            " 5   State           181691 non-null  object\n",
            " 6   City            181691 non-null  object\n",
            " 7   Attack_type     181691 non-null  object\n",
            " 8   Target_type     181691 non-null  object\n",
            " 9   Target_subtype  181691 non-null  object\n",
            " 10  Gang_name       181691 non-null  object\n",
            " 11  Weapon_type     181691 non-null  object\n",
            "dtypes: int64(3), object(9)\n",
            "memory usage: 16.6+ MB\n"
          ]
        }
      ]
    },
    {
      "cell_type": "code",
      "source": [
        "terrorism_df.describe()"
      ],
      "metadata": {
        "colab": {
          "base_uri": "https://localhost:8080/",
          "height": 300
        },
        "id": "ec6Avsifl5RN",
        "outputId": "5174019b-ed66-4e34-fd1f-476aaf5e07c3"
      },
      "execution_count": 29,
      "outputs": [
        {
          "output_type": "execute_result",
          "data": {
            "text/plain": [
              "                Year          Month            Day\n",
              "count  181691.000000  181691.000000  181691.000000\n",
              "mean     2002.638997       6.467277      15.505644\n",
              "std        13.259430       3.388303       8.814045\n",
              "min      1970.000000       0.000000       0.000000\n",
              "25%      1991.000000       4.000000       8.000000\n",
              "50%      2009.000000       6.000000      15.000000\n",
              "75%      2014.000000       9.000000      23.000000\n",
              "max      2017.000000      12.000000      31.000000"
            ],
            "text/html": [
              "\n",
              "  <div id=\"df-c2a61f67-1a82-4f4e-bfd5-b83cb0eab8aa\">\n",
              "    <div class=\"colab-df-container\">\n",
              "      <div>\n",
              "<style scoped>\n",
              "    .dataframe tbody tr th:only-of-type {\n",
              "        vertical-align: middle;\n",
              "    }\n",
              "\n",
              "    .dataframe tbody tr th {\n",
              "        vertical-align: top;\n",
              "    }\n",
              "\n",
              "    .dataframe thead th {\n",
              "        text-align: right;\n",
              "    }\n",
              "</style>\n",
              "<table border=\"1\" class=\"dataframe\">\n",
              "  <thead>\n",
              "    <tr style=\"text-align: right;\">\n",
              "      <th></th>\n",
              "      <th>Year</th>\n",
              "      <th>Month</th>\n",
              "      <th>Day</th>\n",
              "    </tr>\n",
              "  </thead>\n",
              "  <tbody>\n",
              "    <tr>\n",
              "      <th>count</th>\n",
              "      <td>181691.000000</td>\n",
              "      <td>181691.000000</td>\n",
              "      <td>181691.000000</td>\n",
              "    </tr>\n",
              "    <tr>\n",
              "      <th>mean</th>\n",
              "      <td>2002.638997</td>\n",
              "      <td>6.467277</td>\n",
              "      <td>15.505644</td>\n",
              "    </tr>\n",
              "    <tr>\n",
              "      <th>std</th>\n",
              "      <td>13.259430</td>\n",
              "      <td>3.388303</td>\n",
              "      <td>8.814045</td>\n",
              "    </tr>\n",
              "    <tr>\n",
              "      <th>min</th>\n",
              "      <td>1970.000000</td>\n",
              "      <td>0.000000</td>\n",
              "      <td>0.000000</td>\n",
              "    </tr>\n",
              "    <tr>\n",
              "      <th>25%</th>\n",
              "      <td>1991.000000</td>\n",
              "      <td>4.000000</td>\n",
              "      <td>8.000000</td>\n",
              "    </tr>\n",
              "    <tr>\n",
              "      <th>50%</th>\n",
              "      <td>2009.000000</td>\n",
              "      <td>6.000000</td>\n",
              "      <td>15.000000</td>\n",
              "    </tr>\n",
              "    <tr>\n",
              "      <th>75%</th>\n",
              "      <td>2014.000000</td>\n",
              "      <td>9.000000</td>\n",
              "      <td>23.000000</td>\n",
              "    </tr>\n",
              "    <tr>\n",
              "      <th>max</th>\n",
              "      <td>2017.000000</td>\n",
              "      <td>12.000000</td>\n",
              "      <td>31.000000</td>\n",
              "    </tr>\n",
              "  </tbody>\n",
              "</table>\n",
              "</div>\n",
              "      <button class=\"colab-df-convert\" onclick=\"convertToInteractive('df-c2a61f67-1a82-4f4e-bfd5-b83cb0eab8aa')\"\n",
              "              title=\"Convert this dataframe to an interactive table.\"\n",
              "              style=\"display:none;\">\n",
              "        \n",
              "  <svg xmlns=\"http://www.w3.org/2000/svg\" height=\"24px\"viewBox=\"0 0 24 24\"\n",
              "       width=\"24px\">\n",
              "    <path d=\"M0 0h24v24H0V0z\" fill=\"none\"/>\n",
              "    <path d=\"M18.56 5.44l.94 2.06.94-2.06 2.06-.94-2.06-.94-.94-2.06-.94 2.06-2.06.94zm-11 1L8.5 8.5l.94-2.06 2.06-.94-2.06-.94L8.5 2.5l-.94 2.06-2.06.94zm10 10l.94 2.06.94-2.06 2.06-.94-2.06-.94-.94-2.06-.94 2.06-2.06.94z\"/><path d=\"M17.41 7.96l-1.37-1.37c-.4-.4-.92-.59-1.43-.59-.52 0-1.04.2-1.43.59L10.3 9.45l-7.72 7.72c-.78.78-.78 2.05 0 2.83L4 21.41c.39.39.9.59 1.41.59.51 0 1.02-.2 1.41-.59l7.78-7.78 2.81-2.81c.8-.78.8-2.07 0-2.86zM5.41 20L4 18.59l7.72-7.72 1.47 1.35L5.41 20z\"/>\n",
              "  </svg>\n",
              "      </button>\n",
              "      \n",
              "  <style>\n",
              "    .colab-df-container {\n",
              "      display:flex;\n",
              "      flex-wrap:wrap;\n",
              "      gap: 12px;\n",
              "    }\n",
              "\n",
              "    .colab-df-convert {\n",
              "      background-color: #E8F0FE;\n",
              "      border: none;\n",
              "      border-radius: 50%;\n",
              "      cursor: pointer;\n",
              "      display: none;\n",
              "      fill: #1967D2;\n",
              "      height: 32px;\n",
              "      padding: 0 0 0 0;\n",
              "      width: 32px;\n",
              "    }\n",
              "\n",
              "    .colab-df-convert:hover {\n",
              "      background-color: #E2EBFA;\n",
              "      box-shadow: 0px 1px 2px rgba(60, 64, 67, 0.3), 0px 1px 3px 1px rgba(60, 64, 67, 0.15);\n",
              "      fill: #174EA6;\n",
              "    }\n",
              "\n",
              "    [theme=dark] .colab-df-convert {\n",
              "      background-color: #3B4455;\n",
              "      fill: #D2E3FC;\n",
              "    }\n",
              "\n",
              "    [theme=dark] .colab-df-convert:hover {\n",
              "      background-color: #434B5C;\n",
              "      box-shadow: 0px 1px 3px 1px rgba(0, 0, 0, 0.15);\n",
              "      filter: drop-shadow(0px 1px 2px rgba(0, 0, 0, 0.3));\n",
              "      fill: #FFFFFF;\n",
              "    }\n",
              "  </style>\n",
              "\n",
              "      <script>\n",
              "        const buttonEl =\n",
              "          document.querySelector('#df-c2a61f67-1a82-4f4e-bfd5-b83cb0eab8aa button.colab-df-convert');\n",
              "        buttonEl.style.display =\n",
              "          google.colab.kernel.accessAllowed ? 'block' : 'none';\n",
              "\n",
              "        async function convertToInteractive(key) {\n",
              "          const element = document.querySelector('#df-c2a61f67-1a82-4f4e-bfd5-b83cb0eab8aa');\n",
              "          const dataTable =\n",
              "            await google.colab.kernel.invokeFunction('convertToInteractive',\n",
              "                                                     [key], {});\n",
              "          if (!dataTable) return;\n",
              "\n",
              "          const docLinkHtml = 'Like what you see? Visit the ' +\n",
              "            '<a target=\"_blank\" href=https://colab.research.google.com/notebooks/data_table.ipynb>data table notebook</a>'\n",
              "            + ' to learn more about interactive tables.';\n",
              "          element.innerHTML = '';\n",
              "          dataTable['output_type'] = 'display_data';\n",
              "          await google.colab.output.renderOutput(dataTable, element);\n",
              "          const docLink = document.createElement('div');\n",
              "          docLink.innerHTML = docLinkHtml;\n",
              "          element.appendChild(docLink);\n",
              "        }\n",
              "      </script>\n",
              "    </div>\n",
              "  </div>\n",
              "  "
            ]
          },
          "metadata": {},
          "execution_count": 29
        }
      ]
    },
    {
      "cell_type": "markdown",
      "source": [
        "**View TOP 10 Countries, state, region , target subtype , Attack Type, Attacking Modes, Gang name & Weapon type.**"
      ],
      "metadata": {
        "id": "MMRAN146PyBr"
      }
    },
    {
      "cell_type": "code",
      "source": [
        "#Top 10 most affected regions.\n",
        "terrorism_df['Region'].value_counts().head(10).reset_index()"
      ],
      "metadata": {
        "id": "US14YnNWl-LN",
        "colab": {
          "base_uri": "https://localhost:8080/",
          "height": 363
        },
        "outputId": "e458d74c-808f-4fad-9771-05d1bdb27c59"
      },
      "execution_count": 30,
      "outputs": [
        {
          "output_type": "execute_result",
          "data": {
            "text/plain": [
              "                         index  Region\n",
              "0   Middle East & North Africa   50474\n",
              "1                   South Asia   44974\n",
              "2                South America   18978\n",
              "3           Sub-Saharan Africa   17550\n",
              "4               Western Europe   16639\n",
              "5               Southeast Asia   12485\n",
              "6  Central America & Caribbean   10344\n",
              "7               Eastern Europe    5144\n",
              "8                North America    3456\n",
              "9                    East Asia     802"
            ],
            "text/html": [
              "\n",
              "  <div id=\"df-def58820-bdd6-4dba-8282-dc52766c58e7\">\n",
              "    <div class=\"colab-df-container\">\n",
              "      <div>\n",
              "<style scoped>\n",
              "    .dataframe tbody tr th:only-of-type {\n",
              "        vertical-align: middle;\n",
              "    }\n",
              "\n",
              "    .dataframe tbody tr th {\n",
              "        vertical-align: top;\n",
              "    }\n",
              "\n",
              "    .dataframe thead th {\n",
              "        text-align: right;\n",
              "    }\n",
              "</style>\n",
              "<table border=\"1\" class=\"dataframe\">\n",
              "  <thead>\n",
              "    <tr style=\"text-align: right;\">\n",
              "      <th></th>\n",
              "      <th>index</th>\n",
              "      <th>Region</th>\n",
              "    </tr>\n",
              "  </thead>\n",
              "  <tbody>\n",
              "    <tr>\n",
              "      <th>0</th>\n",
              "      <td>Middle East &amp; North Africa</td>\n",
              "      <td>50474</td>\n",
              "    </tr>\n",
              "    <tr>\n",
              "      <th>1</th>\n",
              "      <td>South Asia</td>\n",
              "      <td>44974</td>\n",
              "    </tr>\n",
              "    <tr>\n",
              "      <th>2</th>\n",
              "      <td>South America</td>\n",
              "      <td>18978</td>\n",
              "    </tr>\n",
              "    <tr>\n",
              "      <th>3</th>\n",
              "      <td>Sub-Saharan Africa</td>\n",
              "      <td>17550</td>\n",
              "    </tr>\n",
              "    <tr>\n",
              "      <th>4</th>\n",
              "      <td>Western Europe</td>\n",
              "      <td>16639</td>\n",
              "    </tr>\n",
              "    <tr>\n",
              "      <th>5</th>\n",
              "      <td>Southeast Asia</td>\n",
              "      <td>12485</td>\n",
              "    </tr>\n",
              "    <tr>\n",
              "      <th>6</th>\n",
              "      <td>Central America &amp; Caribbean</td>\n",
              "      <td>10344</td>\n",
              "    </tr>\n",
              "    <tr>\n",
              "      <th>7</th>\n",
              "      <td>Eastern Europe</td>\n",
              "      <td>5144</td>\n",
              "    </tr>\n",
              "    <tr>\n",
              "      <th>8</th>\n",
              "      <td>North America</td>\n",
              "      <td>3456</td>\n",
              "    </tr>\n",
              "    <tr>\n",
              "      <th>9</th>\n",
              "      <td>East Asia</td>\n",
              "      <td>802</td>\n",
              "    </tr>\n",
              "  </tbody>\n",
              "</table>\n",
              "</div>\n",
              "      <button class=\"colab-df-convert\" onclick=\"convertToInteractive('df-def58820-bdd6-4dba-8282-dc52766c58e7')\"\n",
              "              title=\"Convert this dataframe to an interactive table.\"\n",
              "              style=\"display:none;\">\n",
              "        \n",
              "  <svg xmlns=\"http://www.w3.org/2000/svg\" height=\"24px\"viewBox=\"0 0 24 24\"\n",
              "       width=\"24px\">\n",
              "    <path d=\"M0 0h24v24H0V0z\" fill=\"none\"/>\n",
              "    <path d=\"M18.56 5.44l.94 2.06.94-2.06 2.06-.94-2.06-.94-.94-2.06-.94 2.06-2.06.94zm-11 1L8.5 8.5l.94-2.06 2.06-.94-2.06-.94L8.5 2.5l-.94 2.06-2.06.94zm10 10l.94 2.06.94-2.06 2.06-.94-2.06-.94-.94-2.06-.94 2.06-2.06.94z\"/><path d=\"M17.41 7.96l-1.37-1.37c-.4-.4-.92-.59-1.43-.59-.52 0-1.04.2-1.43.59L10.3 9.45l-7.72 7.72c-.78.78-.78 2.05 0 2.83L4 21.41c.39.39.9.59 1.41.59.51 0 1.02-.2 1.41-.59l7.78-7.78 2.81-2.81c.8-.78.8-2.07 0-2.86zM5.41 20L4 18.59l7.72-7.72 1.47 1.35L5.41 20z\"/>\n",
              "  </svg>\n",
              "      </button>\n",
              "      \n",
              "  <style>\n",
              "    .colab-df-container {\n",
              "      display:flex;\n",
              "      flex-wrap:wrap;\n",
              "      gap: 12px;\n",
              "    }\n",
              "\n",
              "    .colab-df-convert {\n",
              "      background-color: #E8F0FE;\n",
              "      border: none;\n",
              "      border-radius: 50%;\n",
              "      cursor: pointer;\n",
              "      display: none;\n",
              "      fill: #1967D2;\n",
              "      height: 32px;\n",
              "      padding: 0 0 0 0;\n",
              "      width: 32px;\n",
              "    }\n",
              "\n",
              "    .colab-df-convert:hover {\n",
              "      background-color: #E2EBFA;\n",
              "      box-shadow: 0px 1px 2px rgba(60, 64, 67, 0.3), 0px 1px 3px 1px rgba(60, 64, 67, 0.15);\n",
              "      fill: #174EA6;\n",
              "    }\n",
              "\n",
              "    [theme=dark] .colab-df-convert {\n",
              "      background-color: #3B4455;\n",
              "      fill: #D2E3FC;\n",
              "    }\n",
              "\n",
              "    [theme=dark] .colab-df-convert:hover {\n",
              "      background-color: #434B5C;\n",
              "      box-shadow: 0px 1px 3px 1px rgba(0, 0, 0, 0.15);\n",
              "      filter: drop-shadow(0px 1px 2px rgba(0, 0, 0, 0.3));\n",
              "      fill: #FFFFFF;\n",
              "    }\n",
              "  </style>\n",
              "\n",
              "      <script>\n",
              "        const buttonEl =\n",
              "          document.querySelector('#df-def58820-bdd6-4dba-8282-dc52766c58e7 button.colab-df-convert');\n",
              "        buttonEl.style.display =\n",
              "          google.colab.kernel.accessAllowed ? 'block' : 'none';\n",
              "\n",
              "        async function convertToInteractive(key) {\n",
              "          const element = document.querySelector('#df-def58820-bdd6-4dba-8282-dc52766c58e7');\n",
              "          const dataTable =\n",
              "            await google.colab.kernel.invokeFunction('convertToInteractive',\n",
              "                                                     [key], {});\n",
              "          if (!dataTable) return;\n",
              "\n",
              "          const docLinkHtml = 'Like what you see? Visit the ' +\n",
              "            '<a target=\"_blank\" href=https://colab.research.google.com/notebooks/data_table.ipynb>data table notebook</a>'\n",
              "            + ' to learn more about interactive tables.';\n",
              "          element.innerHTML = '';\n",
              "          dataTable['output_type'] = 'display_data';\n",
              "          await google.colab.output.renderOutput(dataTable, element);\n",
              "          const docLink = document.createElement('div');\n",
              "          docLink.innerHTML = docLinkHtml;\n",
              "          element.appendChild(docLink);\n",
              "        }\n",
              "      </script>\n",
              "    </div>\n",
              "  </div>\n",
              "  "
            ]
          },
          "metadata": {},
          "execution_count": 30
        }
      ]
    },
    {
      "cell_type": "code",
      "source": [
        "terrorism_df['Region'].value_counts(normalize=True)\n",
        "#Percentage distribution of region attacks "
      ],
      "metadata": {
        "colab": {
          "base_uri": "https://localhost:8080/"
        },
        "id": "UT3ClqNK1Frz",
        "outputId": "82b4851b-aa11-4107-bdc6-405e2279d8c1"
      },
      "execution_count": 31,
      "outputs": [
        {
          "output_type": "execute_result",
          "data": {
            "text/plain": [
              "Middle East & North Africa     0.277801\n",
              "South Asia                     0.247530\n",
              "South America                  0.104452\n",
              "Sub-Saharan Africa             0.096593\n",
              "Western Europe                 0.091579\n",
              "Southeast Asia                 0.068716\n",
              "Central America & Caribbean    0.056932\n",
              "Eastern Europe                 0.028312\n",
              "North America                  0.019021\n",
              "East Asia                      0.004414\n",
              "Central Asia                   0.003099\n",
              "Australasia & Oceania          0.001552\n",
              "Name: Region, dtype: float64"
            ]
          },
          "metadata": {},
          "execution_count": 31
        }
      ]
    },
    {
      "cell_type": "code",
      "source": [
        "#top 10 most affected state.\n",
        "terrorism_df['State'].value_counts().head(10)"
      ],
      "metadata": {
        "colab": {
          "base_uri": "https://localhost:8080/"
        },
        "id": "xrpEznn4Qyc6",
        "outputId": "0e4e13ce-ec39-4f3d-941b-99626e6ba263"
      },
      "execution_count": 32,
      "outputs": [
        {
          "output_type": "execute_result",
          "data": {
            "text/plain": [
              "Baghdad               7645\n",
              "Unknown               4711\n",
              "Northern Ireland      4498\n",
              "Balochistan           3710\n",
              "Saladin               3411\n",
              "Al Anbar              3299\n",
              "Nineveh               3241\n",
              "Sindh                 3206\n",
              "Khyber Pakhtunkhwa    3084\n",
              "Diyala                3041\n",
              "Name: State, dtype: int64"
            ]
          },
          "metadata": {},
          "execution_count": 32
        }
      ]
    },
    {
      "cell_type": "code",
      "source": [
        "terrorism_df['State'].value_counts(normalize=True)\n",
        "#Percentage distribution of State attacks "
      ],
      "metadata": {
        "colab": {
          "base_uri": "https://localhost:8080/"
        },
        "id": "TWpAgU-K4Vxr",
        "outputId": "3d490903-fffa-4b79-b4dd-14badc89e462"
      },
      "execution_count": 33,
      "outputs": [
        {
          "output_type": "execute_result",
          "data": {
            "text/plain": [
              "Baghdad                  0.042077\n",
              "Unknown                  0.025929\n",
              "Northern Ireland         0.024756\n",
              "Balochistan              0.020419\n",
              "Saladin                  0.018774\n",
              "                           ...   \n",
              "Federal Territory        0.000006\n",
              "Topaz (Province)         0.000006\n",
              "Obilic (Municipality)    0.000006\n",
              "East Timor (Region)      0.000006\n",
              "Vidzeme                  0.000006\n",
              "Name: State, Length: 2855, dtype: float64"
            ]
          },
          "metadata": {},
          "execution_count": 33
        }
      ]
    },
    {
      "cell_type": "code",
      "source": [
        "#top 10 most affected cities.\n",
        "terrorism_df['City'].value_counts().head(10)"
      ],
      "metadata": {
        "colab": {
          "base_uri": "https://localhost:8080/"
        },
        "id": "TWr8at4LRAbY",
        "outputId": "8a6cf140-8093-4e85-eda6-077f5d61ce51"
      },
      "execution_count": 34,
      "outputs": [
        {
          "output_type": "execute_result",
          "data": {
            "text/plain": [
              "Unknown         10209\n",
              "Baghdad          7589\n",
              "Karachi          2652\n",
              "Lima             2359\n",
              "Mosul            2265\n",
              "Belfast          2171\n",
              "Santiago         1621\n",
              "Mogadishu        1581\n",
              "San Salvador     1558\n",
              "Istanbul         1048\n",
              "Name: City, dtype: int64"
            ]
          },
          "metadata": {},
          "execution_count": 34
        }
      ]
    },
    {
      "cell_type": "code",
      "source": [
        "terrorism_df['City'].value_counts(normalize=True)\n",
        "#Percentage distribution of State attacks \n"
      ],
      "metadata": {
        "colab": {
          "base_uri": "https://localhost:8080/"
        },
        "id": "Dgol5wLt4xyx",
        "outputId": "0dc73511-9390-493d-a32e-917efa3248fb"
      },
      "execution_count": 35,
      "outputs": [
        {
          "output_type": "execute_result",
          "data": {
            "text/plain": [
              "Unknown      0.056189\n",
              "Baghdad      0.041769\n",
              "Karachi      0.014596\n",
              "Lima         0.012984\n",
              "Mosul        0.012466\n",
              "               ...   \n",
              "Hotwag       0.000006\n",
              "Ostend       0.000006\n",
              "Balughata    0.000006\n",
              "Jikoyi       0.000006\n",
              "Kubentog     0.000006\n",
              "Name: City, Length: 36674, dtype: float64"
            ]
          },
          "metadata": {},
          "execution_count": 35
        }
      ]
    },
    {
      "cell_type": "code",
      "source": [
        "#Top 10 Attacking Modes\n",
        "terrorism_df['Attack_type'].value_counts().head(10)"
      ],
      "metadata": {
        "colab": {
          "base_uri": "https://localhost:8080/"
        },
        "id": "60sC5K5ZRPRO",
        "outputId": "b348bbaa-4dc2-4b4f-ab88-bae82cc87981"
      },
      "execution_count": 36,
      "outputs": [
        {
          "output_type": "execute_result",
          "data": {
            "text/plain": [
              "Bombing/Explosion                      88255\n",
              "Armed Assault                          42669\n",
              "Assassination                          19312\n",
              "Hostage Taking (Kidnapping)            11158\n",
              "Facility/Infrastructure Attack         10356\n",
              "Unknown                                 7276\n",
              "Unarmed Assault                         1015\n",
              "Hostage Taking (Barricade Incident)      991\n",
              "Hijacking                                659\n",
              "Name: Attack_type, dtype: int64"
            ]
          },
          "metadata": {},
          "execution_count": 36
        }
      ]
    },
    {
      "cell_type": "code",
      "source": [
        "terrorism_df['Attack_type'].value_counts(normalize=True)\n",
        "#Percentage distribution of Attack_type attacks "
      ],
      "metadata": {
        "colab": {
          "base_uri": "https://localhost:8080/"
        },
        "id": "Ds8ioVzB5Vvx",
        "outputId": "5b3711f8-2f68-466e-f01e-d745bca3e8e6"
      },
      "execution_count": 37,
      "outputs": [
        {
          "output_type": "execute_result",
          "data": {
            "text/plain": [
              "Bombing/Explosion                      0.485742\n",
              "Armed Assault                          0.234844\n",
              "Assassination                          0.106290\n",
              "Hostage Taking (Kidnapping)            0.061412\n",
              "Facility/Infrastructure Attack         0.056998\n",
              "Unknown                                0.040046\n",
              "Unarmed Assault                        0.005586\n",
              "Hostage Taking (Barricade Incident)    0.005454\n",
              "Hijacking                              0.003627\n",
              "Name: Attack_type, dtype: float64"
            ]
          },
          "metadata": {},
          "execution_count": 37
        }
      ]
    },
    {
      "cell_type": "code",
      "source": [
        "#Top 10 Target Type.\n",
        "terrorism_df['Target_type'].value_counts().head(10)"
      ],
      "metadata": {
        "colab": {
          "base_uri": "https://localhost:8080/"
        },
        "id": "LnAX1xjNRd7S",
        "outputId": "bdbd125e-daf3-475a-f955-9b23ac31baa4"
      },
      "execution_count": 38,
      "outputs": [
        {
          "output_type": "execute_result",
          "data": {
            "text/plain": [
              "Private Citizens & Property       43511\n",
              "Military                          27984\n",
              "Police                            24506\n",
              "Government (General)              21283\n",
              "Business                          20669\n",
              "Transportation                     6799\n",
              "Utilities                          6023\n",
              "Unknown                            5898\n",
              "Religious Figures/Institutions     4440\n",
              "Educational Institution            4322\n",
              "Name: Target_type, dtype: int64"
            ]
          },
          "metadata": {},
          "execution_count": 38
        }
      ]
    },
    {
      "cell_type": "code",
      "source": [
        "terrorism_df['Target_type'].value_counts(normalize=True)\n",
        "#Percentage distribution of Target_type_type attacks"
      ],
      "metadata": {
        "colab": {
          "base_uri": "https://localhost:8080/"
        },
        "id": "jP3XhMV05tew",
        "outputId": "3e1ffbd3-8413-43d2-b720-08fbc0ae0564"
      },
      "execution_count": 39,
      "outputs": [
        {
          "output_type": "execute_result",
          "data": {
            "text/plain": [
              "Private Citizens & Property       0.239478\n",
              "Military                          0.154020\n",
              "Police                            0.134877\n",
              "Government (General)              0.117138\n",
              "Business                          0.113759\n",
              "Transportation                    0.037421\n",
              "Utilities                         0.033150\n",
              "Unknown                           0.032462\n",
              "Religious Figures/Institutions    0.024437\n",
              "Educational Institution           0.023788\n",
              "Government (Diplomatic)           0.019665\n",
              "Terrorists/Non-State Militia      0.016726\n",
              "Journalists & Media               0.016225\n",
              "Violent Political Party           0.010270\n",
              "Airports & Aircraft               0.007392\n",
              "Telecommunication                 0.005553\n",
              "NGO                               0.005339\n",
              "Tourists                          0.002422\n",
              "Maritime                          0.001932\n",
              "Food or Water Supply              0.001745\n",
              "Abortion Related                  0.001448\n",
              "Other                             0.000754\n",
              "Name: Target_type, dtype: float64"
            ]
          },
          "metadata": {},
          "execution_count": 39
        }
      ]
    },
    {
      "cell_type": "code",
      "source": [
        "#Top gangs Involved in terror Acivities.\n",
        "terrorism_df['Gang_name'].value_counts().head(10)"
      ],
      "metadata": {
        "colab": {
          "base_uri": "https://localhost:8080/"
        },
        "id": "LKc4IfyKRorW",
        "outputId": "221bf42e-d5af-4ed0-d6fb-8e14b88e13ae"
      },
      "execution_count": 40,
      "outputs": [
        {
          "output_type": "execute_result",
          "data": {
            "text/plain": [
              "Unknown                                             82782\n",
              "Taliban                                              7478\n",
              "Islamic State of Iraq and the Levant (ISIL)          5613\n",
              "Shining Path (SL)                                    4555\n",
              "Farabundo Marti National Liberation Front (FMLN)     3351\n",
              "Al-Shabaab                                           3288\n",
              "New People's Army (NPA)                              2772\n",
              "Irish Republican Army (IRA)                          2671\n",
              "Revolutionary Armed Forces of Colombia (FARC)        2487\n",
              "Boko Haram                                           2418\n",
              "Name: Gang_name, dtype: int64"
            ]
          },
          "metadata": {},
          "execution_count": 40
        }
      ]
    },
    {
      "cell_type": "code",
      "source": [
        "terrorism_df['Gang_name'].value_counts(normalize=True)\n",
        "#Percentage distribution of Gang Name attacks"
      ],
      "metadata": {
        "colab": {
          "base_uri": "https://localhost:8080/"
        },
        "id": "SSrO_Nk_6AVg",
        "outputId": "dd5444d5-4959-4816-ea3a-34b310d7c268"
      },
      "execution_count": 41,
      "outputs": [
        {
          "output_type": "execute_result",
          "data": {
            "text/plain": [
              "Unknown                                             0.455620\n",
              "Taliban                                             0.041158\n",
              "Islamic State of Iraq and the Levant (ISIL)         0.030893\n",
              "Shining Path (SL)                                   0.025070\n",
              "Farabundo Marti National Liberation Front (FMLN)    0.018443\n",
              "                                                      ...   \n",
              "Ansar Sarallah                                      0.000006\n",
              "Sword of Islam                                      0.000006\n",
              "Support of Ocalan-The Hawks of Thrace               0.000006\n",
              "Arab Revolutionary Front                            0.000006\n",
              "MANO-D                                              0.000006\n",
              "Name: Gang_name, Length: 3537, dtype: float64"
            ]
          },
          "metadata": {},
          "execution_count": 41
        }
      ]
    },
    {
      "cell_type": "code",
      "source": [
        "#Most chosen weapon type.\n",
        "terrorism_df['Weapon_type'].value_counts().head(5)"
      ],
      "metadata": {
        "colab": {
          "base_uri": "https://localhost:8080/"
        },
        "id": "IfSWCQYIR16G",
        "outputId": "4368ac9f-c551-413f-e37f-3a8e8062e865"
      },
      "execution_count": 42,
      "outputs": [
        {
          "output_type": "execute_result",
          "data": {
            "text/plain": [
              "Explosives    92426\n",
              "Firearms      58524\n",
              "Unknown       15157\n",
              "Incendiary    11135\n",
              "Melee          3655\n",
              "Name: Weapon_type, dtype: int64"
            ]
          },
          "metadata": {},
          "execution_count": 42
        }
      ]
    },
    {
      "cell_type": "code",
      "source": [
        "terrorism_df['Weapon_type'].value_counts(normalize=True)\n",
        "#Percentage distribution of Weapon type attacks"
      ],
      "metadata": {
        "colab": {
          "base_uri": "https://localhost:8080/"
        },
        "id": "eFfqdGln6Cn7",
        "outputId": "9b6157df-e025-4e31-8f00-8d43255d8f3e"
      },
      "execution_count": 43,
      "outputs": [
        {
          "output_type": "execute_result",
          "data": {
            "text/plain": [
              "Explosives            0.508699\n",
              "Firearms              0.322107\n",
              "Unknown               0.083422\n",
              "Incendiary            0.061285\n",
              "Melee                 0.020117\n",
              "Chemical              0.001767\n",
              "Sabotage Equipment    0.000776\n",
              "Vehicle               0.000749\n",
              "Other                 0.000627\n",
              "Biological            0.000193\n",
              "Fake Weapons          0.000182\n",
              "Radiological          0.000077\n",
              "Name: Weapon_type, dtype: float64"
            ]
          },
          "metadata": {},
          "execution_count": 43
        }
      ]
    },
    {
      "cell_type": "code",
      "source": [
        "terrorism_df['Gang_name'].value_counts()"
      ],
      "metadata": {
        "colab": {
          "base_uri": "https://localhost:8080/"
        },
        "id": "Q5bUiUS7-TmF",
        "outputId": "955f2a11-4166-4d28-ba82-c1cf1e1fff68"
      },
      "execution_count": 44,
      "outputs": [
        {
          "output_type": "execute_result",
          "data": {
            "text/plain": [
              "Unknown                                             82782\n",
              "Taliban                                              7478\n",
              "Islamic State of Iraq and the Levant (ISIL)          5613\n",
              "Shining Path (SL)                                    4555\n",
              "Farabundo Marti National Liberation Front (FMLN)     3351\n",
              "                                                    ...  \n",
              "Ansar Sarallah                                          1\n",
              "Sword of Islam                                          1\n",
              "Support of Ocalan-The Hawks of Thrace                   1\n",
              "Arab Revolutionary Front                                1\n",
              "MANO-D                                                  1\n",
              "Name: Gang_name, Length: 3537, dtype: int64"
            ]
          },
          "metadata": {},
          "execution_count": 44
        }
      ]
    },
    {
      "cell_type": "code",
      "source": [
        "gang_grp = terrorism_df.groupby(['Country'])['Attack_type'].value_counts()\n",
        "gang_grp"
      ],
      "metadata": {
        "colab": {
          "base_uri": "https://localhost:8080/"
        },
        "id": "ytdfZUB09B1N",
        "outputId": "06191a09-6eaa-4e01-9033-b7a183dd0fa3"
      },
      "execution_count": 45,
      "outputs": [
        {
          "output_type": "execute_result",
          "data": {
            "text/plain": [
              "Country      Attack_type                        \n",
              "Afghanistan  Bombing/Explosion                      6245\n",
              "             Armed Assault                          2877\n",
              "             Unknown                                1173\n",
              "             Hostage Taking (Kidnapping)            1011\n",
              "             Assassination                           954\n",
              "                                                    ... \n",
              "Zimbabwe     Facility/Infrastructure Attack            6\n",
              "             Unknown                                   5\n",
              "             Hostage Taking (Kidnapping)               4\n",
              "             Hostage Taking (Barricade Incident)       2\n",
              "             Unarmed Assault                           2\n",
              "Name: Attack_type, Length: 1279, dtype: int64"
            ]
          },
          "metadata": {},
          "execution_count": 45
        }
      ]
    },
    {
      "cell_type": "code",
      "source": [
        "gang_grp = terrorism_df.groupby(['Country'])\n",
        "gang_grp['Target_type'].value_counts().head(50)"
      ],
      "metadata": {
        "colab": {
          "base_uri": "https://localhost:8080/"
        },
        "id": "i0kqWMtnCsb-",
        "outputId": "8bfda388-c411-4ceb-bdcc-214e1740a51c"
      },
      "execution_count": 46,
      "outputs": [
        {
          "output_type": "execute_result",
          "data": {
            "text/plain": [
              "Country      Target_type                   \n",
              "Afghanistan  Police                            3558\n",
              "             Private Citizens & Property       2626\n",
              "             Military                          2270\n",
              "             Government (General)              1626\n",
              "             Unknown                            756\n",
              "             Business                           464\n",
              "             Educational Institution            325\n",
              "             Religious Figures/Institutions     232\n",
              "             NGO                                158\n",
              "             Government (Diplomatic)            151\n",
              "             Transportation                     149\n",
              "             Terrorists/Non-State Militia       119\n",
              "             Journalists & Media                 80\n",
              "             Telecommunication                   70\n",
              "             Airports & Aircraft                 64\n",
              "             Utilities                           38\n",
              "             Violent Political Party             19\n",
              "             Food or Water Supply                14\n",
              "             Other                                8\n",
              "             Tourists                             4\n",
              "Albania      Government (General)                30\n",
              "             Private Citizens & Property         11\n",
              "             Police                              10\n",
              "             Business                             6\n",
              "             Transportation                       6\n",
              "             Journalists & Media                  4\n",
              "             Unknown                              4\n",
              "             Government (Diplomatic)              3\n",
              "             Educational Institution              2\n",
              "             Military                             1\n",
              "             NGO                                  1\n",
              "             Religious Figures/Institutions       1\n",
              "             Utilities                            1\n",
              "Algeria      Private Citizens & Property        901\n",
              "             Police                             566\n",
              "             Military                           409\n",
              "             Business                           180\n",
              "             Government (General)               173\n",
              "             Transportation                     111\n",
              "             Unknown                             83\n",
              "             Journalists & Media                 70\n",
              "             Educational Institution             67\n",
              "             Utilities                           35\n",
              "             Religious Figures/Institutions      32\n",
              "             Terrorists/Non-State Militia        30\n",
              "             Telecommunication                   20\n",
              "             Tourists                            20\n",
              "             Government (Diplomatic)             18\n",
              "             Airports & Aircraft                 17\n",
              "             Other                                3\n",
              "Name: Target_type, dtype: int64"
            ]
          },
          "metadata": {},
          "execution_count": 46
        }
      ]
    },
    {
      "cell_type": "code",
      "source": [
        "gang_grp = terrorism_df.groupby(['Target_type'])['Attack_type'].value_counts(10)\n",
        "gang_grp"
      ],
      "metadata": {
        "colab": {
          "base_uri": "https://localhost:8080/"
        },
        "id": "1bDLPPH2EIx9",
        "outputId": "1d75b062-e0fc-476b-dad5-828d9ae606f3"
      },
      "execution_count": 47,
      "outputs": [
        {
          "output_type": "execute_result",
          "data": {
            "text/plain": [
              "Target_type              Attack_type                        \n",
              "Abortion Related         Facility/Infrastructure Attack         0.726236\n",
              "                         Bombing/Explosion                      0.193916\n",
              "                         Assassination                          0.034221\n",
              "                         Armed Assault                          0.030418\n",
              "                         Unarmed Assault                        0.007605\n",
              "                                                                  ...   \n",
              "Violent Political Party  Hostage Taking (Kidnapping)            0.063773\n",
              "                         Facility/Infrastructure Attack         0.049839\n",
              "                         Unknown                                0.040729\n",
              "                         Unarmed Assault                        0.005895\n",
              "                         Hostage Taking (Barricade Incident)    0.001072\n",
              "Name: Attack_type, Length: 192, dtype: float64"
            ]
          },
          "metadata": {},
          "execution_count": 47
        }
      ]
    },
    {
      "cell_type": "markdown",
      "source": [
        "# ***Visualizations*** \n",
        "For Visualizations, we have to use matplotlib and seaborn which we have imported at the beginning. "
      ],
      "metadata": {
        "id": "73t0I-8RJbIe"
      }
    },
    {
      "cell_type": "code",
      "source": [
        "plt.figure(figsize=(15,5));\n",
        "sns.countplot(x=terrorism_df.Weapon_type);"
      ],
      "metadata": {
        "colab": {
          "base_uri": "https://localhost:8080/",
          "height": 335
        },
        "id": "xSv4hLIjKQxw",
        "outputId": "e8b6a902-a0cd-4513-a6fb-f98a228f3cf2"
      },
      "execution_count": 48,
      "outputs": [
        {
          "output_type": "display_data",
          "data": {
            "text/plain": [
              "<Figure size 1080x360 with 1 Axes>"
            ],
            "image/png": "[encoded data removed]"
          },
          "metadata": {
            "needs_background": "light"
          }
        }
      ]
    },
    {
      "cell_type": "code",
      "source": [
        "plt.figure(figsize=(15,5));\n",
        "plt.title('Attacks by Month')\n",
        "sns.countplot(x=terrorism_df.Month)\n",
        "sns.set(style=\"dark\")\n"
      ],
      "metadata": {
        "colab": {
          "base_uri": "https://localhost:8080/",
          "height": 350
        },
        "id": "WKXnkfxBcm27",
        "outputId": "9ad03a69-3cba-4abd-b520-74d08db9f55e"
      },
      "execution_count": 49,
      "outputs": [
        {
          "output_type": "display_data",
          "data": {
            "text/plain": [
              "<Figure size 1080x360 with 1 Axes>"
            ],
            "image/png": "[encoded data removed]"
          },
          "metadata": {
            "needs_background": "light"
          }
        }
      ]
    },
    {
      "cell_type": "code",
      "source": [
        "plt.figure(figsize=(20,5));\n",
        "plt.xticks(rotation = 90)\n",
        "plt.title('Attacks by Year')\n",
        "sns.countplot(x=terrorism_df.Year);"
      ],
      "metadata": {
        "colab": {
          "base_uri": "https://localhost:8080/",
          "height": 373
        },
        "id": "E385-mvsXG7o",
        "outputId": "e10387de-0c09-4580-a603-a8cdccb67be5"
      },
      "execution_count": 50,
      "outputs": [
        {
          "output_type": "display_data",
          "data": {
            "text/plain": [
              "<Figure size 1440x360 with 1 Axes>"
            ],
            "image/png": "[encoded data removed]"
          },
          "metadata": {}
        }
      ]
    },
    {
      "cell_type": "code",
      "source": [
        "terrorism_df.plot"
      ],
      "metadata": {
        "colab": {
          "base_uri": "https://localhost:8080/"
        },
        "id": "KB4c3y93Y3AV",
        "outputId": "53dc33c0-0d49-4e32-9c11-f8ab26d4937c"
      },
      "execution_count": 51,
      "outputs": [
        {
          "output_type": "execute_result",
          "data": {
            "text/plain": [
              "<pandas.plotting._core.PlotAccessor object at 0x7fb818be4110>"
            ]
          },
          "metadata": {},
          "execution_count": 51
        }
      ]
    },
    {
      "cell_type": "code",
      "source": [
        "plt.figure(figsize=(28,5));\n",
        "plt.rcParams.update({'font.size':10});\n",
        "plt.xticks(rotation = 0)\n",
        "plt.title('Attacks by Region')\n",
        "sns.countplot(x=terrorism_df.Region);"
      ],
      "metadata": {
        "colab": {
          "base_uri": "https://localhost:8080/",
          "height": 274
        },
        "id": "2HSGCwdqaJyS",
        "outputId": "b845ce18-8565-499c-9d25-b97e06865657"
      },
      "execution_count": 52,
      "outputs": [
        {
          "output_type": "display_data",
          "data": {
            "text/plain": [
              "<Figure size 2016x360 with 1 Axes>"
            ],
            "image/png": "[encoded data removed]"
          },
          "metadata": {}
        }
      ]
    },
    {
      "cell_type": "code",
      "source": [
        "plt.figure(figsize=(20,5));\n",
        "plt.rcParams.update({'font.size':10});\n",
        "plt.xticks(rotation = 90)\n",
        "plt.title('Based on Target type')\n",
        "sns.countplot(x=terrorism_df.Target_type)\n",
        "sns.set(style=\"white\")"
      ],
      "metadata": {
        "colab": {
          "base_uri": "https://localhost:8080/",
          "height": 504
        },
        "id": "9usgmxlRgHMg",
        "outputId": "08f81767-149c-4a80-ea1e-3effc94843ab"
      },
      "execution_count": 53,
      "outputs": [
        {
          "output_type": "display_data",
          "data": {
            "text/plain": [
              "<Figure size 1440x360 with 1 Axes>"
            ],
            "image/png": "[encoded data removed]"
          },
          "metadata": {}
        }
      ]
    },
    {
      "cell_type": "markdown",
      "source": [
        "# **Interpretations/Conclusions.**"
      ],
      "metadata": {
        "id": "HT5ZrSYnTE18"
      }
    },
    {
      "cell_type": "markdown",
      "source": [
        "\n",
        "0. TOP 10 Countries, state, region , target subtype , Attack Type, Attacking Modes, Gang name & Weapon type.\n",
        "1. Explosives & firearms has been majorly used for Attacks.\n",
        "2. Almost Every day has the same contribution but attacks were low during 31st and high during 15th and 1st.\n",
        "3. Attacks were maximum in 2014 followed by 2015. also then, decreasing      graduallyn since 2017.\n",
        "4. The Middle East & North Africa leads 1st among all the regions and then South Asia takes 2nd place\n",
        "5. Private Citizens & property are the first choice for terror attack, followed by Military, police & Business.\n",
        "\n",
        "\n",
        "                                  ### THANK YOU!!\n",
        "\n",
        "\n",
        "\n",
        "\n",
        "\n",
        "\n"
      ],
      "metadata": {
        "id": "hECddeYvUwZi"
      }
    }
  ]
}